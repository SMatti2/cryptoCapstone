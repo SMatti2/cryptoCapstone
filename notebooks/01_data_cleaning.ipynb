{
 "cells": [
  {
   "cell_type": "code",
   "execution_count": 5,
   "metadata": {},
   "outputs": [],
   "source": [
    "import pandas as pd\n",
    "\n",
    "from typing import Dict\n",
    "from pathlib import Path\n",
    "\n",
    "from src.preprocessing.cleaning import CryptoDataCleaner\n",
    "from config import config\n",
    "\n",
    "# ensure data types for numeric columns\n",
    "dtype_dict: Dict[str, type] = {\n",
    "    \"open\": float,\n",
    "    \"high\": float,\n",
    "    \"low\": float,\n",
    "    \"close\": float,\n",
    "    \"volume\": float,\n",
    "    \"marketCap\": float,\n",
    "}"
   ]
  },
  {
   "cell_type": "code",
   "execution_count": 6,
   "metadata": {},
   "outputs": [],
   "source": [
    "cleaner = CryptoDataCleaner(\n",
    "    date_col=\"timeClose\",\n",
    "    drop_cols=[\"timeOpen\", \"timeClose\", \"timestamp\", \"timeHigh\", \"timeLow\", \"name\"],\n",
    "    round_decimals=3,\n",
    "    date_format=\"%Y-%m-%d\",\n",
    "    rename_map=None,\n",
    ")\n",
    "\n",
    "df_btc = pd.read_csv(\n",
    "    config.DATA_DIR / \"raw\" / \"crypto_prices\" / \"btc.csv\",\n",
    "    delimiter=\";\",\n",
    "    decimal=\".\",\n",
    "    dtype=dtype_dict,\n",
    "    parse_dates=[\"timeOpen\", \"timeClose\"],\n",
    ")\n",
    "df_btc_cleaned = cleaner.clean(df_btc)\n",
    "df_btc_cleaned.to_csv(config.DATA_DIR / \"processed\" / \"crypto_prices\" / \"btc.csv\")\n",
    "\n",
    "\n",
    "df_eth = pd.read_csv(\n",
    "    config.DATA_DIR / \"raw\" / \"crypto_prices\" / \"eth.csv\",\n",
    "    delimiter=\";\",\n",
    "    decimal=\".\",\n",
    "    dtype=dtype_dict,\n",
    "    parse_dates=[\"timeOpen\", \"timeClose\"],\n",
    ")\n",
    "df_eth_cleaned = cleaner.clean(df_eth)\n",
    "df_eth_cleaned.to_csv(config.DATA_DIR / \"processed\" / \"crypto_prices\" / \"eth.csv\")"
   ]
  },
  {
   "cell_type": "code",
   "execution_count": null,
   "metadata": {},
   "outputs": [],
   "source": []
  }
 ],
 "metadata": {
  "kernelspec": {
   "display_name": "env",
   "language": "python",
   "name": "python3"
  },
  "language_info": {
   "codemirror_mode": {
    "name": "ipython",
    "version": 3
   },
   "file_extension": ".py",
   "mimetype": "text/x-python",
   "name": "python",
   "nbconvert_exporter": "python",
   "pygments_lexer": "ipython3",
   "version": "3.12.0"
  }
 },
 "nbformat": 4,
 "nbformat_minor": 2
}
