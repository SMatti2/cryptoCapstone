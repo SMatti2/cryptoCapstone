{
 "cells": [
  {
   "cell_type": "code",
   "execution_count": null,
   "metadata": {},
   "outputs": [],
   "source": [
    "import sys, os\n",
    "\n",
    "sys.path.append(os.path.abspath(os.path.join(\"..\")))"
   ]
  },
  {
   "cell_type": "markdown",
   "metadata": {},
   "source": [
    "# CoinAPI - CMT\n"
   ]
  },
  {
   "cell_type": "code",
   "execution_count": null,
   "metadata": {},
   "outputs": [],
   "source": [
    "from datetime import datetime\n",
    "\n",
    "\n",
    "from config import config\n",
    "from src.data_collection.coin_api import fetch_ohlcv_data_to_csv\n",
    "from src.models.client import Client\n",
    "\n",
    "coinAPIClient = Client(\n",
    "    base_url=\"https://rest.coinapi.io/v1\",\n",
    "    auth_header=\"X-CoinAPI-Key\",\n",
    "    api_key=config.COIN_API_KEY,\n",
    ")\n",
    "\n",
    "\n",
    "fetch_ohlcv_data_to_csv(\n",
    "    client=coinAPIClient,\n",
    "    symbol=\"BTC\",\n",
    "    start_date=datetime(2016, 9, 1),\n",
    "    end_date=datetime(2022, 12, 31),\n",
    "    output_dir=\"../data/raw/crypto_prices\",\n",
    ")\n",
    "\n",
    "\n",
    "fetch_ohlcv_data_to_csv(\n",
    "    client=coinAPIClient,\n",
    "    symbol=\"ETH\",\n",
    "    start_date=datetime(2016, 9, 1),\n",
    "    end_date=datetime(2022, 12, 31),\n",
    "    output_dir=\"../data/raw/crypto_prices\",\n",
    ")"
   ]
  },
  {
   "cell_type": "markdown",
   "metadata": {},
   "source": [
    "# Gold"
   ]
  },
  {
   "cell_type": "code",
   "execution_count": null,
   "metadata": {},
   "outputs": [],
   "source": [
    "from src.data_collection.gold import fetch_futures_prices_to_csv\n",
    "\n",
    "fetch_futures_prices_to_csv(\n",
    "ticker=\"GC=F\",\n",
    "start_date=\"2017-01-01\",\n",
    "end_date=\"2022-12-31\",\n",
    "output_filename=\"gold.csv\",\n",
    "output_dir=\"../data/raw/\",\n",
    ")\n"
   ]
  },
  {
   "cell_type": "markdown",
   "metadata": {},
   "source": [
    "# Google News"
   ]
  },
  {
   "cell_type": "code",
   "execution_count": null,
   "metadata": {},
   "outputs": [],
   "source": [
    "from src.data_collection.google_news import scrape_google_news\n",
    "\n",
    "start_date = \"1/1/2017\"\n",
    "end_date = \"12/31/2022\"\n",
    "# preferred_domains = [\"brookings.edu\"]\n",
    "queries = [[\"ETH\", \"ethereum\", \"cryptocurrency\"]]\n",
    "output_dir = \"data/raw/news_articles\"\n",
    "\n",
    "os.makedirs(output_dir, exist_ok=True)\n",
    "\n",
    "output_file = os.path.join(output_dir, \"ethereum_articles.json\")\n",
    "\n",
    "articles_data = scrape_google_news(\n",
    "    start_date=start_date,\n",
    "    end_date=end_date,\n",
    "    # preferred_domains=preferred_domains,\n",
    "    queries=queries,\n",
    "    output_path=output_file,\n",
    ")"
   ]
  },
  {
   "cell_type": "code",
   "execution_count": null,
   "metadata": {},
   "outputs": [],
   "source": [
    "queries = [[\"BTC\", \"bitcoin\", \"cryptocurrency\"]]\n",
    "output_file = os.path.join(output_dir, \"bitcoin_articles.json\")\n",
    "\n",
    "articles_data = scrape_google_news(\n",
    "    start_date=start_date,\n",
    "    end_date=end_date,\n",
    "    # preferred_domains=preferred_domains,\n",
    "    queries=queries,\n",
    "    output_path=output_file,\n",
    ")"
   ]
  }
 ],
 "metadata": {
  "kernelspec": {
   "display_name": "env",
   "language": "python",
   "name": "python3"
  },
  "language_info": {
   "codemirror_mode": {
    "name": "ipython",
    "version": 3
   },
   "file_extension": ".py",
   "mimetype": "text/x-python",
   "name": "python",
   "nbconvert_exporter": "python",
   "pygments_lexer": "ipython3",
   "version": "3.12.0"
  }
 },
 "nbformat": 4,
 "nbformat_minor": 2
}
