{
 "cells": [
  {
   "cell_type": "code",
   "execution_count": 6,
   "metadata": {},
   "outputs": [],
   "source": [
    "import sys, os\n",
    "\n",
    "sys.path.append(os.path.abspath(os.path.join(\"..\")))"
   ]
  },
  {
   "cell_type": "markdown",
   "metadata": {},
   "source": [
    "# CoinAPI - CMT\n"
   ]
  },
  {
   "cell_type": "code",
   "execution_count": null,
   "metadata": {},
   "outputs": [],
   "source": [
    "from datetime import datetime\n",
    "\n",
    "\n",
    "from config import config\n",
    "from src.data_collection.coinAPI import fetch_ohlcv_data_to_csv\n",
    "from src.models.client import Client\n",
    "\n",
    "coinAPIClient = Client(\n",
    "    base_url=\"https://rest.coinapi.io/v1\",\n",
    "    auth_header=\"X-CoinAPI-Key\",\n",
    "    api_key=config.COIN_API_KEY,\n",
    ")\n",
    "\n",
    "\n",
    "fetch_ohlcv_data_to_csv(\n",
    "    client=coinAPIClient,\n",
    "    symbol=\"BTC\",\n",
    "    start_date=datetime(2016, 9, 1),\n",
    "    end_date=datetime(2022, 12, 31),\n",
    "    output_dir=\"../data/raw/crypto_prices\",\n",
    ")\n",
    "\n",
    "\n",
    "fetch_ohlcv_data_to_csv(\n",
    "    client=coinAPIClient,\n",
    "    symbol=\"ETH\",\n",
    "    start_date=datetime(2016, 9, 1),\n",
    "    end_date=datetime(2022, 12, 31),\n",
    "    output_dir=\"../data/raw/crypto_prices\",\n",
    ")"
   ]
  }
 ],
 "metadata": {
  "kernelspec": {
   "display_name": "env",
   "language": "python",
   "name": "python3"
  },
  "language_info": {
   "codemirror_mode": {
    "name": "ipython",
    "version": 3
   },
   "file_extension": ".py",
   "mimetype": "text/x-python",
   "name": "python",
   "nbconvert_exporter": "python",
   "pygments_lexer": "ipython3",
   "version": "3.12.0"
  }
 },
 "nbformat": 4,
 "nbformat_minor": 2
}
