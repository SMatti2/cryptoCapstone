{
 "cells": [
  {
   "cell_type": "code",
   "execution_count": 6,
   "metadata": {},
   "outputs": [],
   "source": [
    "import sys, os\n",
    "\n",
    "sys.path.append(os.path.abspath(os.path.join(\"..\")))"
   ]
  },
  {
   "cell_type": "markdown",
   "metadata": {},
   "source": [
    "# CoinAPI - CMT\n"
   ]
  },
  {
   "cell_type": "code",
   "execution_count": null,
   "metadata": {},
   "outputs": [],
   "source": [
    "from datetime import datetime\n",
    "\n",
    "\n",
    "from config import config\n",
    "from src.data_collection.coinAPI import fetch_ohlcv_data_to_csv\n",
    "from src.models.client import Client\n",
    "\n",
    "coinAPIClient = Client(\n",
    "    base_url=\"https://rest.coinapi.io/v1\",\n",
    "    auth_header=\"X-CoinAPI-Key\",\n",
    "    api_key=config.COIN_API_KEY,\n",
    ")\n",
    "\n",
    "\n",
    "fetch_ohlcv_data_to_csv(\n",
    "    client=coinAPIClient,\n",
    "    symbol=\"BTC\",\n",
    "    start_date=datetime(2016, 9, 1),\n",
    "    end_date=datetime(2022, 12, 31),\n",
    "    output_dir=\"../data/raw/crypto_prices\",\n",
    ")\n",
    "\n",
    "\n",
    "fetch_ohlcv_data_to_csv(\n",
    "    client=coinAPIClient,\n",
    "    symbol=\"ETH\",\n",
    "    start_date=datetime(2016, 9, 1),\n",
    "    end_date=datetime(2022, 12, 31),\n",
    "    output_dir=\"../data/raw/crypto_prices\",\n",
    ")"
   ]
  },
  {
   "cell_type": "markdown",
   "metadata": {},
   "source": [
    "# Gold"
   ]
  },
  {
   "cell_type": "code",
   "execution_count": 15,
   "metadata": {},
   "outputs": [
    {
     "name": "stderr",
     "output_type": "stream",
     "text": [
      "[*********************100%***********************]  1 of 1 completed"
     ]
    },
    {
     "name": "stdout",
     "output_type": "stream",
     "text": [
      "Fetching data for GC=F from 2017-01-01 to 2022-12-31...\n",
      "Data saved to '../data/raw/gold.csv'\n",
      "Ticker             GC=F\n",
      "Date                   \n",
      "2017-01-03  1160.400024\n",
      "2017-01-04  1163.800049\n",
      "2017-01-05  1179.699951\n",
      "2017-01-06  1171.900024\n",
      "2017-01-09  1183.500000\n"
     ]
    },
    {
     "name": "stderr",
     "output_type": "stream",
     "text": [
      "\n"
     ]
    },
    {
     "data": {
      "text/html": [
       "<div>\n",
       "<style scoped>\n",
       "    .dataframe tbody tr th:only-of-type {\n",
       "        vertical-align: middle;\n",
       "    }\n",
       "\n",
       "    .dataframe tbody tr th {\n",
       "        vertical-align: top;\n",
       "    }\n",
       "\n",
       "    .dataframe thead th {\n",
       "        text-align: right;\n",
       "    }\n",
       "</style>\n",
       "<table border=\"1\" class=\"dataframe\">\n",
       "  <thead>\n",
       "    <tr style=\"text-align: right;\">\n",
       "      <th>Ticker</th>\n",
       "      <th>GC=F</th>\n",
       "    </tr>\n",
       "    <tr>\n",
       "      <th>Date</th>\n",
       "      <th></th>\n",
       "    </tr>\n",
       "  </thead>\n",
       "  <tbody>\n",
       "    <tr>\n",
       "      <th>2017-01-03</th>\n",
       "      <td>1160.400024</td>\n",
       "    </tr>\n",
       "    <tr>\n",
       "      <th>2017-01-04</th>\n",
       "      <td>1163.800049</td>\n",
       "    </tr>\n",
       "    <tr>\n",
       "      <th>2017-01-05</th>\n",
       "      <td>1179.699951</td>\n",
       "    </tr>\n",
       "    <tr>\n",
       "      <th>2017-01-06</th>\n",
       "      <td>1171.900024</td>\n",
       "    </tr>\n",
       "    <tr>\n",
       "      <th>2017-01-09</th>\n",
       "      <td>1183.500000</td>\n",
       "    </tr>\n",
       "    <tr>\n",
       "      <th>...</th>\n",
       "      <td>...</td>\n",
       "    </tr>\n",
       "    <tr>\n",
       "      <th>2022-12-23</th>\n",
       "      <td>1795.900024</td>\n",
       "    </tr>\n",
       "    <tr>\n",
       "      <th>2022-12-27</th>\n",
       "      <td>1814.800049</td>\n",
       "    </tr>\n",
       "    <tr>\n",
       "      <th>2022-12-28</th>\n",
       "      <td>1807.900024</td>\n",
       "    </tr>\n",
       "    <tr>\n",
       "      <th>2022-12-29</th>\n",
       "      <td>1819.500000</td>\n",
       "    </tr>\n",
       "    <tr>\n",
       "      <th>2022-12-30</th>\n",
       "      <td>1819.699951</td>\n",
       "    </tr>\n",
       "  </tbody>\n",
       "</table>\n",
       "<p>1509 rows × 1 columns</p>\n",
       "</div>"
      ],
      "text/plain": [
       "Ticker             GC=F\n",
       "Date                   \n",
       "2017-01-03  1160.400024\n",
       "2017-01-04  1163.800049\n",
       "2017-01-05  1179.699951\n",
       "2017-01-06  1171.900024\n",
       "2017-01-09  1183.500000\n",
       "...                 ...\n",
       "2022-12-23  1795.900024\n",
       "2022-12-27  1814.800049\n",
       "2022-12-28  1807.900024\n",
       "2022-12-29  1819.500000\n",
       "2022-12-30  1819.699951\n",
       "\n",
       "[1509 rows x 1 columns]"
      ]
     },
     "execution_count": 15,
     "metadata": {},
     "output_type": "execute_result"
    }
   ],
   "source": [
    "from src.data_collection.gold import fetch_futures_prices_to_csv\n",
    "\n",
    "fetch_futures_prices_to_csv(\n",
    "ticker=\"GC=F\",\n",
    "start_date=\"2017-01-01\",\n",
    "end_date=\"2022-12-31\",\n",
    "output_filename=\"gold.csv\",\n",
    "output_dir=\"../data/raw/\",\n",
    ")\n"
   ]
  },
  {
   "cell_type": "code",
   "execution_count": null,
   "metadata": {},
   "outputs": [],
   "source": []
  }
 ],
 "metadata": {
  "kernelspec": {
   "display_name": "env",
   "language": "python",
   "name": "python3"
  },
  "language_info": {
   "codemirror_mode": {
    "name": "ipython",
    "version": 3
   },
   "file_extension": ".py",
   "mimetype": "text/x-python",
   "name": "python",
   "nbconvert_exporter": "python",
   "pygments_lexer": "ipython3",
   "version": "3.12.0"
  }
 },
 "nbformat": 4,
 "nbformat_minor": 2
}
