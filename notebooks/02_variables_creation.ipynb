{
 "cells": [
  {
   "cell_type": "code",
   "execution_count": 1,
   "metadata": {},
   "outputs": [],
   "source": [
    "import pandas as pd\n",
    "\n",
    "from config import config\n",
    "from config import dtype_dict\n",
    "\n",
    "from src.preprocessing.create_variables import create_variables\n",
    "\n",
    "df_btc = pd.read_csv(\n",
    "    config.DATA_DIR / \"processed\" / \"crypto_prices\" / \"btc.csv\",\n",
    "    parse_dates=[\"date\"],\n",
    "    index_col=\"date\",\n",
    "    dtype=dtype_dict,\n",
    ")\n",
    "df_eth = pd.read_csv(\n",
    "    config.DATA_DIR / \"processed\" / \"crypto_prices\" / \"eth.csv\",\n",
    "    parse_dates=[\"date\"],\n",
    "    index_col=\"date\",\n",
    "    dtype=dtype_dict,\n",
    ")"
   ]
  },
  {
   "cell_type": "code",
   "execution_count": 2,
   "metadata": {},
   "outputs": [],
   "source": [
    "df_btc = create_variables(df_btc)\n",
    "df_btc = df_btc.loc[\"2017-01-01\":]\n",
    "\n",
    "df_eth = create_variables(df_eth)\n",
    "df_eth = df_eth.loc[\"2017-01-01\":]\n",
    "\n",
    "df_btc.to_csv(config.DATA_DIR / \"processed\" / \"crypto_prices\" / \"btc.csv\")\n",
    "df_btc.to_csv(config.DATA_DIR / \"processed\" / \"crypto_prices\" / \"btc_original.csv\")\n",
    "df_eth.to_csv(config.DATA_DIR / \"processed\" / \"crypto_prices\" / \"eth.csv\")\n",
    "df_eth.to_csv(config.DATA_DIR / \"processed\" / \"crypto_prices\" / \"eth_original.csv\")"
   ]
  }
 ],
 "metadata": {
  "kernelspec": {
   "display_name": "env",
   "language": "python",
   "name": "python3"
  },
  "language_info": {
   "codemirror_mode": {
    "name": "ipython",
    "version": 3
   },
   "file_extension": ".py",
   "mimetype": "text/x-python",
   "name": "python",
   "nbconvert_exporter": "python",
   "pygments_lexer": "ipython3",
   "version": "3.12.0"
  }
 },
 "nbformat": 4,
 "nbformat_minor": 2
}
