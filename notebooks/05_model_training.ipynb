{
 "cells": [
  {
   "cell_type": "code",
   "execution_count": 9,
   "metadata": {},
   "outputs": [],
   "source": [
    "import pandas as pd\n",
    "import seaborn as sns\n",
    "import matplotlib.pyplot as plt\n",
    "\n",
    "from pathlib import Path\n",
    "\n",
    "from src.processing.splitting import time_based_split\n",
    "from src.processing.scaling import scale_features\n",
    "from src.processing.sequence_creator import create_sequences\n",
    "from config import config\n",
    "\n",
    "\n",
    "df_btc = pd.read_csv(\n",
    "    config.DATA_DIR / \"processed\" / \"crypto_prices\" / \"btc.csv\",\n",
    "    parse_dates=[\"date\"],\n",
    "    index_col=\"date\",\n",
    ")\n",
    "df_eth = pd.read_csv(\n",
    "    config.DATA_DIR / \"processed\" / \"crypto_prices\" / \"eth.csv\",\n",
    "    parse_dates=[\"date\"],\n",
    "    index_col=\"date\",\n",
    ")"
   ]
  },
  {
   "cell_type": "markdown",
   "metadata": {},
   "source": [
    "## Split\n"
   ]
  },
  {
   "cell_type": "code",
   "execution_count": 10,
   "metadata": {},
   "outputs": [],
   "source": [
    "X_train_btc, y_train_btc, X_val_btc, y_val_btc, X_test_btc, y_test_btc = (\n",
    "    time_based_split(\n",
    "        df_btc,\n",
    "        targets=[\"logPriceChange\"],\n",
    "        test_months=12,\n",
    "        val_months=3,\n",
    "        lags=30,\n",
    "    )\n",
    ")\n",
    "\n",
    "X_train_eth, y_train_eth, X_val_eth, y_val_eth, X_test_eth, y_test_eth = (\n",
    "    time_based_split(\n",
    "        df_eth,\n",
    "        targets=\"logPriceChange\",\n",
    "        test_months=12,\n",
    "        val_months=3,\n",
    "        lags=30,\n",
    "    )\n",
    ")"
   ]
  },
  {
   "cell_type": "markdown",
   "metadata": {},
   "source": [
    "## Scale\n"
   ]
  },
  {
   "cell_type": "code",
   "execution_count": 11,
   "metadata": {},
   "outputs": [],
   "source": [
    "X_train_scaled_btc, X_val_scaled_btc, X_test_scaled_btc, scaler_btc = scale_features(\n",
    "    X_train_btc, X_val_btc, X_test_btc\n",
    ")\n",
    "\n",
    "X_train_scaled_eth, X_val_scaled_eth, X_test_scaled_eth, scaler_eth = scale_features(\n",
    "    X_train_eth, X_val_eth, X_test_eth\n",
    ")"
   ]
  },
  {
   "cell_type": "markdown",
   "metadata": {},
   "source": [
    "## Sequence Creation\n"
   ]
  },
  {
   "cell_type": "code",
   "execution_count": 12,
   "metadata": {},
   "outputs": [
    {
     "name": "stdout",
     "output_type": "stream",
     "text": [
      "X_train_seq_btc shape: (1663, 30, 72)\n",
      "y_train_seq_btc shape: (1663, 1)\n"
     ]
    }
   ],
   "source": [
    "X_train_seq_btc, y_train_seq_btc = create_sequences(\n",
    "    X_train_scaled_btc, y_train_btc, seq_length=30\n",
    ")\n",
    "X_val_seq_btc, y_val_seq_btc = create_sequences(\n",
    "    X_val_scaled_btc, y_val_btc, seq_length=30\n",
    ")\n",
    "X_test_seq_btc, y_test_seq_btc = create_sequences(\n",
    "    X_test_scaled_btc, y_test_btc, seq_length=30\n",
    ")\n",
    "\n",
    "print(f\"X_train_seq_btc shape: {X_train_seq_btc.shape}\")\n",
    "print(f\"y_train_seq_btc shape: {y_train_seq_btc.shape}\")\n",
    "\n",
    "X_train_seq_eth, y_train_seq_eth = create_sequences(\n",
    "    X_train_scaled_eth, y_train_eth, seq_length=30\n",
    ")\n",
    "X_val_seq_eth, y_val_seq_eth = create_sequences(\n",
    "    X_val_scaled_eth, y_val_eth, seq_length=30\n",
    ")\n",
    "X_test_seq_eth, y_test_seq_eth = create_sequences(\n",
    "    X_test_scaled_eth, y_test_eth, seq_length=30\n",
    ")"
   ]
  },
  {
   "cell_type": "markdown",
   "metadata": {},
   "source": [
    "# Model Training\n"
   ]
  },
  {
   "cell_type": "markdown",
   "metadata": {},
   "source": []
  }
 ],
 "metadata": {
  "kernelspec": {
   "display_name": "env",
   "language": "python",
   "name": "python3"
  },
  "language_info": {
   "codemirror_mode": {
    "name": "ipython",
    "version": 3
   },
   "file_extension": ".py",
   "mimetype": "text/x-python",
   "name": "python",
   "nbconvert_exporter": "python",
   "pygments_lexer": "ipython3",
   "version": "3.12.0"
  }
 },
 "nbformat": 4,
 "nbformat_minor": 2
}
