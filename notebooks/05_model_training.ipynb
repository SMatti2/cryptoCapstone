{
 "cells": [
  {
   "cell_type": "code",
   "execution_count": 1,
   "metadata": {},
   "outputs": [],
   "source": [
    "import pandas as pd\n",
    "import seaborn as sns\n",
    "import matplotlib.pyplot as plt\n",
    "\n",
    "from pathlib import Path\n",
    "\n",
    "from src.processing.splitting import time_based_split\n",
    "from config import config\n",
    "\n",
    "df_btc = pd.read_csv(\n",
    "    config.DATA_DIR / \"processed\" / \"crypto_prices\" / \"btc.csv\",\n",
    "    parse_dates=[\"date\"],\n",
    "    index_col=\"date\",\n",
    ")\n",
    "df_eth = pd.read_csv(\n",
    "    config.DATA_DIR / \"processed\" / \"crypto_prices\" / \"eth.csv\",\n",
    "    parse_dates=[\"date\"],\n",
    "    index_col=\"date\",\n",
    ")"
   ]
  },
  {
   "cell_type": "code",
   "execution_count": 3,
   "metadata": {},
   "outputs": [
    {
     "name": "stdout",
     "output_type": "stream",
     "text": [
      "(1693, 72) (1693, 1)\n",
      "                open      high       low     close        volume  \\\n",
      "date                                                               \n",
      "2021-08-22  -457.970  -245.409  -112.257   416.163 -1.521423e+10   \n",
      "2021-08-23   422.573  1010.466   874.664   224.494  8.934078e+09   \n",
      "2021-08-24   270.670  -603.305 -1387.487 -1840.029  1.056115e+09   \n",
      "2021-08-25 -1835.090  -675.893  -523.504  1254.668 -2.714819e+09   \n",
      "2021-08-26  1275.385   144.706  -757.832 -2018.569  2.019964e+07   \n",
      "\n",
      "               marketCap  priceMovement  localMin_7  localMax_7  localMin_14  \\\n",
      "date                                                                           \n",
      "2021-08-22  7.869441e+09              1           0           0            0   \n",
      "2021-08-23  4.282650e+09              1           0           1            0   \n",
      "2021-08-24 -3.453951e+10              0           0           0            0   \n",
      "2021-08-25  2.363319e+10              1           0           0            0   \n",
      "2021-08-26 -3.790143e+10              0           0           0            0   \n",
      "\n",
      "            ...         MACD  MACD_Signal         MI      TRIX  Vortex_down  \\\n",
      "date        ...                                                               \n",
      "2021-08-22  ...  2647.702957  2579.436194  25.732906  0.362954     0.866556   \n",
      "2021-08-23  ...  2675.587791  2598.666513  25.521537  0.388937     0.862115   \n",
      "2021-08-24  ...  2520.160913  2582.965393  25.234647  0.412359     0.889964   \n",
      "2021-08-25  ...  2469.755412  2560.323397  25.113498  0.434138     0.918052   \n",
      "2021-08-26  ...  2241.093114  2496.477340  25.026798  0.452700     0.898354   \n",
      "\n",
      "            Vortex_up         WMA         CR  PSAR_down  PSAR_up  \n",
      "date                                                              \n",
      "2021-08-22   1.155065  479.776418  36.276416          0        1  \n",
      "2021-08-23   1.213269  431.623218  37.224450          0        1  \n",
      "2021-08-24   1.101235   65.202909  21.295958          0        1  \n",
      "2021-08-25   1.060181  282.248491  27.477604          0        1  \n",
      "2021-08-26   1.082927 -119.560091  12.207919          0        1  \n",
      "\n",
      "[5 rows x 72 columns]\n"
     ]
    }
   ],
   "source": [
    "X_train_btc, y_train_btc, X_val_btc, y_val_btc, X_test_btc, y_test_btc = (\n",
    "    time_based_split(\n",
    "        df_btc,\n",
    "        targets=[\"logPriceChange\"],\n",
    "        test_months=12,\n",
    "        val_months=3,\n",
    "        lags=30,\n",
    "    )\n",
    ")\n",
    "\n",
    "X_train_eth, y_train_eth, X_val_eth, y_val_eth, X_test_eth, y_test_eth = (\n",
    "    time_based_split(\n",
    "        df_eth,\n",
    "        targets=\"logPriceChange\",\n",
    "        test_months=12,\n",
    "        val_months=3,\n",
    "        lags=30,\n",
    "    )\n",
    ")"
   ]
  },
  {
   "cell_type": "code",
   "execution_count": null,
   "metadata": {},
   "outputs": [],
   "source": []
  }
 ],
 "metadata": {
  "kernelspec": {
   "display_name": "env",
   "language": "python",
   "name": "python3"
  },
  "language_info": {
   "codemirror_mode": {
    "name": "ipython",
    "version": 3
   },
   "file_extension": ".py",
   "mimetype": "text/x-python",
   "name": "python",
   "nbconvert_exporter": "python",
   "pygments_lexer": "ipython3",
   "version": "3.12.0"
  }
 },
 "nbformat": 4,
 "nbformat_minor": 2
}
