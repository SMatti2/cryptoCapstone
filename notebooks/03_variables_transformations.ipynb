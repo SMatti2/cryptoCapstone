{
 "cells": [
  {
   "cell_type": "code",
   "execution_count": 7,
   "metadata": {},
   "outputs": [],
   "source": [
    "import pandas as pd\n",
    "\n",
    "from src.preprocessing.transformations.heteroskedasticity import (\n",
    "    log_heteroskedastic_vars,\n",
    ")\n",
    "from src.preprocessing.transformations.stationarity import (\n",
    "    difference_non_stationary_features,\n",
    ")\n",
    "from config import config\n",
    "\n",
    "df_btc = pd.read_csv(\n",
    "    config.DATA_DIR / \"processed\" / \"crypto_prices\" / \"btc.csv\",\n",
    "    parse_dates=[\"date\"],\n",
    "    index_col=\"date\",\n",
    ")\n",
    "df_eth = pd.read_csv(\n",
    "    config.DATA_DIR / \"processed\" / \"crypto_prices\" / \"eth.csv\",\n",
    "    parse_dates=[\"date\"],\n",
    "    index_col=\"date\",\n",
    ")"
   ]
  },
  {
   "cell_type": "markdown",
   "metadata": {},
   "source": [
    "# Heteroskedasticity"
   ]
  },
  {
   "cell_type": "code",
   "execution_count": 8,
   "metadata": {},
   "outputs": [],
   "source": [
    "log_heteroskedastic_vars(df_btc).to_csv(\n",
    "    config.DATA_DIR / \"processed\" / \"crypto_prices\" / \"btc.csv\"\n",
    ")\n",
    "log_heteroskedastic_vars(df_eth).to_csv(\n",
    "    config.DATA_DIR / \"processed\" / \"crypto_prices\" / \"eth.csv\"\n",
    ")"
   ]
  },
  {
   "cell_type": "markdown",
   "metadata": {},
   "source": [
    "# Stationarity"
   ]
  },
  {
   "cell_type": "code",
   "execution_count": 9,
   "metadata": {},
   "outputs": [],
   "source": [
    "df_btc_clean, _ = difference_non_stationary_features(df_btc)\n",
    "df_btc_clean.to_csv(config.DATA_DIR / \"processed\" / \"crypto_prices\" / \"btc.csv\")\n",
    "\n",
    "df_eth_clean, _ = difference_non_stationary_features(df_eth)\n",
    "df_eth_clean.to_csv(config.DATA_DIR / \"processed\" / \"crypto_prices\" / \"eth.csv\")"
   ]
  }
 ],
 "metadata": {
  "kernelspec": {
   "display_name": "env",
   "language": "python",
   "name": "python3"
  },
  "language_info": {
   "codemirror_mode": {
    "name": "ipython",
    "version": 3
   },
   "file_extension": ".py",
   "mimetype": "text/x-python",
   "name": "python",
   "nbconvert_exporter": "python",
   "pygments_lexer": "ipython3",
   "version": "3.12.0"
  }
 },
 "nbformat": 4,
 "nbformat_minor": 2
}
