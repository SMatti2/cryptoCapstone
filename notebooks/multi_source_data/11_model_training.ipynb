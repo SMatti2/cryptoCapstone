{
 "cells": [
  {
   "cell_type": "code",
   "execution_count": 22,
   "metadata": {},
   "outputs": [],
   "source": [
    "import pandas as pd\n",
    "import seaborn as sns\n",
    "import numpy as np\n",
    "import matplotlib.pyplot as plt\n",
    "\n",
    "from pathlib import Path\n",
    "\n",
    "from src.processing.splitting import time_based_split\n",
    "from src.processing.scaling import scale_features\n",
    "from src.processing.sequence_creator import create_sequences\n",
    "from src.training.lstm_training import train_lstm\n",
    "from src.training.hyperparameters_tuning import tune_hyperparameters\n",
    "\n",
    "from config import config\n",
    "\n",
    "\n",
    "df_btc = pd.read_csv(\n",
    "    config.DATA_DIR / \"processed\" / \"crypto_prices\" / \"btc.csv\",\n",
    "    parse_dates=[\"date\"],\n",
    "    index_col=\"date\",\n",
    ")\n",
    "df_eth = pd.read_csv(\n",
    "    config.DATA_DIR / \"processed\" / \"crypto_prices\" / \"eth.csv\",\n",
    "    parse_dates=[\"date\"],\n",
    "    index_col=\"date\",\n",
    ")"
   ]
  },
  {
   "cell_type": "markdown",
   "metadata": {},
   "source": [
    "## Split\n"
   ]
  },
  {
   "cell_type": "code",
   "execution_count": 23,
   "metadata": {},
   "outputs": [],
   "source": [
    "X_train_btc, y_train_btc, X_val_btc, y_val_btc, X_test_btc, y_test_btc = (\n",
    "    time_based_split(\n",
    "        df_btc,\n",
    "        targets=[\"logPriceChange\"],\n",
    "        test_months=12,\n",
    "        val_months=3,\n",
    "        lags=30,\n",
    "    )\n",
    ")\n",
    "\n",
    "X_train_eth, y_train_eth, X_val_eth, y_val_eth, X_test_eth, y_test_eth = (\n",
    "    time_based_split(\n",
    "        df_eth,\n",
    "        targets=[\"logPriceChange\"],\n",
    "        test_months=12,\n",
    "        val_months=3,\n",
    "        lags=30,\n",
    "    )\n",
    ")"
   ]
  },
  {
   "cell_type": "code",
   "execution_count": 24,
   "metadata": {},
   "outputs": [
    {
     "name": "stdout",
     "output_type": "stream",
     "text": [
      "            logPriceChange\n",
      "date                      \n",
      "2022-12-14       -0.016406\n",
      "2022-12-15       -0.042190\n",
      "2022-12-16        0.008828\n",
      "2022-12-19        0.027989\n",
      "2022-12-20       -0.005265\n",
      "            logPriceChange\n",
      "date                      \n",
      "2021-12-02       -0.052332\n",
      "2021-12-03       -0.085608\n",
      "2021-12-06        0.002319\n",
      "2021-12-07       -0.003859\n",
      "2021-12-08       -0.057722\n"
     ]
    }
   ],
   "source": [
    "print(y_test_btc.tail())\n",
    "print(y_test_btc.head())"
   ]
  },
  {
   "cell_type": "markdown",
   "metadata": {},
   "source": [
    "## Scale\n"
   ]
  },
  {
   "cell_type": "code",
   "execution_count": 25,
   "metadata": {},
   "outputs": [],
   "source": [
    "X_train_scaled_btc, X_val_scaled_btc, X_test_scaled_btc, scaler_btc = scale_features(\n",
    "    X_train_btc, X_val_btc, X_test_btc\n",
    ")\n",
    "\n",
    "X_train_scaled_eth, X_val_scaled_eth, X_test_scaled_eth, scaler_eth = scale_features(\n",
    "    X_train_eth, X_val_eth, X_test_eth\n",
    ")"
   ]
  },
  {
   "cell_type": "markdown",
   "metadata": {},
   "source": [
    "## Sequence Creation\n"
   ]
  },
  {
   "cell_type": "code",
   "execution_count": 26,
   "metadata": {},
   "outputs": [
    {
     "name": "stdout",
     "output_type": "stream",
     "text": [
      "X_train_seq_btc shape: (1144, 30, 79)\n",
      "y_train_seq_btc shape: (1144, 1)\n"
     ]
    }
   ],
   "source": [
    "X_train_seq_btc, y_train_seq_btc = create_sequences(\n",
    "    X_train_scaled_btc, y_train_btc, seq_length=30\n",
    ")\n",
    "X_val_seq_btc, y_val_seq_btc = create_sequences(\n",
    "    X_val_scaled_btc, y_val_btc, seq_length=30\n",
    ")\n",
    "X_test_seq_btc, y_test_seq_btc = create_sequences(\n",
    "    X_test_scaled_btc, y_test_btc, seq_length=30\n",
    ")\n",
    "\n",
    "print(f\"X_train_seq_btc shape: {X_train_seq_btc.shape}\")\n",
    "print(f\"y_train_seq_btc shape: {y_train_seq_btc.shape}\")\n",
    "\n",
    "X_train_seq_eth, y_train_seq_eth = create_sequences(\n",
    "    X_train_scaled_eth, y_train_eth, seq_length=30\n",
    ")\n",
    "X_val_seq_eth, y_val_seq_eth = create_sequences(\n",
    "    X_val_scaled_eth, y_val_eth, seq_length=30\n",
    ")\n",
    "X_test_seq_eth, y_test_seq_eth = create_sequences(\n",
    "    X_test_scaled_eth, y_test_eth, seq_length=30\n",
    ")"
   ]
  },
  {
   "cell_type": "markdown",
   "metadata": {},
   "source": [
    "# BTC\n"
   ]
  },
  {
   "cell_type": "markdown",
   "metadata": {},
   "source": [
    "### Model Tuning"
   ]
  },
  {
   "cell_type": "code",
   "execution_count": 27,
   "metadata": {},
   "outputs": [],
   "source": [
    "study_lstm_btc = tune_hyperparameters(\n",
    "    X_train_seq_btc,\n",
    "    y_train_seq_btc,\n",
    "    X_val_seq_btc,\n",
    "    y_val_seq_btc,\n",
    "    train_lstm,\n",
    "    n_trials=50,\n",
    ")"
   ]
  },
  {
   "cell_type": "code",
   "execution_count": 28,
   "metadata": {},
   "outputs": [
    {
     "data": {
      "text/plain": [
       "235"
      ]
     },
     "execution_count": 28,
     "metadata": {},
     "output_type": "execute_result"
    }
   ],
   "source": [
    "len(y_test_seq_btc)"
   ]
  },
  {
   "cell_type": "markdown",
   "metadata": {},
   "source": [
    "## Model Training"
   ]
  },
  {
   "cell_type": "code",
   "execution_count": 29,
   "metadata": {},
   "outputs": [
    {
     "name": "stdout",
     "output_type": "stream",
     "text": [
      "Epoch 1/300\n",
      "\u001b[1m18/18\u001b[0m \u001b[32m━━━━━━━━━━━━━━━━━━━━\u001b[0m\u001b[37m\u001b[0m \u001b[1m4s\u001b[0m 96ms/step - loss: 0.0149 - mae: 0.0941 - val_loss: 9.4738e-04 - val_mae: 0.0249\n",
      "Epoch 2/300\n",
      "\u001b[1m18/18\u001b[0m \u001b[32m━━━━━━━━━━━━━━━━━━━━\u001b[0m\u001b[37m\u001b[0m \u001b[1m2s\u001b[0m 98ms/step - loss: 0.0056 - mae: 0.0568 - val_loss: 0.0039 - val_mae: 0.0558\n",
      "Epoch 3/300\n",
      "\u001b[1m18/18\u001b[0m \u001b[32m━━━━━━━━━━━━━━━━━━━━\u001b[0m\u001b[37m\u001b[0m \u001b[1m2s\u001b[0m 91ms/step - loss: 0.0044 - mae: 0.0489 - val_loss: 9.5736e-04 - val_mae: 0.0252\n",
      "Epoch 4/300\n",
      "\u001b[1m18/18\u001b[0m \u001b[32m━━━━━━━━━━━━━━━━━━━━\u001b[0m\u001b[37m\u001b[0m \u001b[1m2s\u001b[0m 91ms/step - loss: 0.0027 - mae: 0.0370 - val_loss: 9.1096e-04 - val_mae: 0.0242\n",
      "Epoch 5/300\n",
      "\u001b[1m18/18\u001b[0m \u001b[32m━━━━━━━━━━━━━━━━━━━━\u001b[0m\u001b[37m\u001b[0m \u001b[1m2s\u001b[0m 88ms/step - loss: 0.0022 - mae: 0.0337 - val_loss: 9.4302e-04 - val_mae: 0.0244\n",
      "Epoch 6/300\n",
      "\u001b[1m18/18\u001b[0m \u001b[32m━━━━━━━━━━━━━━━━━━━━\u001b[0m\u001b[37m\u001b[0m \u001b[1m2s\u001b[0m 85ms/step - loss: 0.0022 - mae: 0.0327 - val_loss: 9.1330e-04 - val_mae: 0.0241\n",
      "Epoch 7/300\n",
      "\u001b[1m18/18\u001b[0m \u001b[32m━━━━━━━━━━━━━━━━━━━━\u001b[0m\u001b[37m\u001b[0m \u001b[1m2s\u001b[0m 89ms/step - loss: 0.0022 - mae: 0.0328 - val_loss: 8.9254e-04 - val_mae: 0.0239\n",
      "Epoch 8/300\n",
      "\u001b[1m18/18\u001b[0m \u001b[32m━━━━━━━━━━━━━━━━━━━━\u001b[0m\u001b[37m\u001b[0m \u001b[1m2s\u001b[0m 86ms/step - loss: 0.0021 - mae: 0.0315 - val_loss: 8.8405e-04 - val_mae: 0.0237\n",
      "Epoch 9/300\n",
      "\u001b[1m18/18\u001b[0m \u001b[32m━━━━━━━━━━━━━━━━━━━━\u001b[0m\u001b[37m\u001b[0m \u001b[1m2s\u001b[0m 85ms/step - loss: 0.0021 - mae: 0.0313 - val_loss: 8.8960e-04 - val_mae: 0.0238\n",
      "Epoch 10/300\n",
      "\u001b[1m18/18\u001b[0m \u001b[32m━━━━━━━━━━━━━━━━━━━━\u001b[0m\u001b[37m\u001b[0m \u001b[1m2s\u001b[0m 86ms/step - loss: 0.0021 - mae: 0.0318 - val_loss: 8.9500e-04 - val_mae: 0.0239\n",
      "Epoch 11/300\n",
      "\u001b[1m18/18\u001b[0m \u001b[32m━━━━━━━━━━━━━━━━━━━━\u001b[0m\u001b[37m\u001b[0m \u001b[1m1s\u001b[0m 83ms/step - loss: 0.0021 - mae: 0.0316 - val_loss: 8.9555e-04 - val_mae: 0.0239\n",
      "Epoch 12/300\n",
      "\u001b[1m18/18\u001b[0m \u001b[32m━━━━━━━━━━━━━━━━━━━━\u001b[0m\u001b[37m\u001b[0m \u001b[1m2s\u001b[0m 85ms/step - loss: 0.0021 - mae: 0.0313 - val_loss: 8.9414e-04 - val_mae: 0.0239\n",
      "Epoch 13/300\n",
      "\u001b[1m18/18\u001b[0m \u001b[32m━━━━━━━━━━━━━━━━━━━━\u001b[0m\u001b[37m\u001b[0m \u001b[1m2s\u001b[0m 85ms/step - loss: 0.0020 - mae: 0.0311 - val_loss: 8.8729e-04 - val_mae: 0.0238\n",
      "Epoch 14/300\n",
      "\u001b[1m18/18\u001b[0m \u001b[32m━━━━━━━━━━━━━━━━━━━━\u001b[0m\u001b[37m\u001b[0m \u001b[1m2s\u001b[0m 86ms/step - loss: 0.0021 - mae: 0.0311 - val_loss: 8.8524e-04 - val_mae: 0.0238\n",
      "Epoch 15/300\n",
      "\u001b[1m18/18\u001b[0m \u001b[32m━━━━━━━━━━━━━━━━━━━━\u001b[0m\u001b[37m\u001b[0m \u001b[1m2s\u001b[0m 87ms/step - loss: 0.0020 - mae: 0.0309 - val_loss: 8.8891e-04 - val_mae: 0.0238\n",
      "Epoch 16/300\n",
      "\u001b[1m18/18\u001b[0m \u001b[32m━━━━━━━━━━━━━━━━━━━━\u001b[0m\u001b[37m\u001b[0m \u001b[1m2s\u001b[0m 91ms/step - loss: 0.0021 - mae: 0.0311 - val_loss: 8.8926e-04 - val_mae: 0.0238\n",
      "Epoch 17/300\n",
      "\u001b[1m18/18\u001b[0m \u001b[32m━━━━━━━━━━━━━━━━━━━━\u001b[0m\u001b[37m\u001b[0m \u001b[1m2s\u001b[0m 84ms/step - loss: 0.0021 - mae: 0.0310 - val_loss: 8.9168e-04 - val_mae: 0.0238\n",
      "Epoch 18/300\n",
      "\u001b[1m18/18\u001b[0m \u001b[32m━━━━━━━━━━━━━━━━━━━━\u001b[0m\u001b[37m\u001b[0m \u001b[1m2s\u001b[0m 85ms/step - loss: 0.0021 - mae: 0.0312 - val_loss: 8.8865e-04 - val_mae: 0.0238\n",
      "Epoch 19/300\n",
      "\u001b[1m18/18\u001b[0m \u001b[32m━━━━━━━━━━━━━━━━━━━━\u001b[0m\u001b[37m\u001b[0m \u001b[1m2s\u001b[0m 84ms/step - loss: 0.0021 - mae: 0.0311 - val_loss: 8.9120e-04 - val_mae: 0.0238\n",
      "Epoch 20/300\n",
      "\u001b[1m18/18\u001b[0m \u001b[32m━━━━━━━━━━━━━━━━━━━━\u001b[0m\u001b[37m\u001b[0m \u001b[1m2s\u001b[0m 85ms/step - loss: 0.0020 - mae: 0.0310 - val_loss: 8.9539e-04 - val_mae: 0.0238\n",
      "Epoch 21/300\n",
      "\u001b[1m18/18\u001b[0m \u001b[32m━━━━━━━━━━━━━━━━━━━━\u001b[0m\u001b[37m\u001b[0m \u001b[1m2s\u001b[0m 84ms/step - loss: 0.0021 - mae: 0.0310 - val_loss: 8.9411e-04 - val_mae: 0.0238\n",
      "Epoch 22/300\n",
      "\u001b[1m18/18\u001b[0m \u001b[32m━━━━━━━━━━━━━━━━━━━━\u001b[0m\u001b[37m\u001b[0m \u001b[1m2s\u001b[0m 84ms/step - loss: 0.0020 - mae: 0.0308 - val_loss: 8.8776e-04 - val_mae: 0.0238\n",
      "Epoch 23/300\n",
      "\u001b[1m18/18\u001b[0m \u001b[32m━━━━━━━━━━━━━━━━━━━━\u001b[0m\u001b[37m\u001b[0m \u001b[1m2s\u001b[0m 84ms/step - loss: 0.0020 - mae: 0.0309 - val_loss: 8.8977e-04 - val_mae: 0.0238\n",
      "Epoch 24/300\n",
      "\u001b[1m18/18\u001b[0m \u001b[32m━━━━━━━━━━━━━━━━━━━━\u001b[0m\u001b[37m\u001b[0m \u001b[1m2s\u001b[0m 86ms/step - loss: 0.0020 - mae: 0.0308 - val_loss: 8.9783e-04 - val_mae: 0.0239\n",
      "Epoch 25/300\n",
      "\u001b[1m18/18\u001b[0m \u001b[32m━━━━━━━━━━━━━━━━━━━━\u001b[0m\u001b[37m\u001b[0m \u001b[1m2s\u001b[0m 87ms/step - loss: 0.0020 - mae: 0.0309 - val_loss: 8.9172e-04 - val_mae: 0.0238\n",
      "Epoch 26/300\n",
      "\u001b[1m18/18\u001b[0m \u001b[32m━━━━━━━━━━━━━━━━━━━━\u001b[0m\u001b[37m\u001b[0m \u001b[1m1s\u001b[0m 83ms/step - loss: 0.0021 - mae: 0.0312 - val_loss: 8.8904e-04 - val_mae: 0.0238\n",
      "Epoch 27/300\n",
      "\u001b[1m18/18\u001b[0m \u001b[32m━━━━━━━━━━━━━━━━━━━━\u001b[0m\u001b[37m\u001b[0m \u001b[1m1s\u001b[0m 82ms/step - loss: 0.0021 - mae: 0.0312 - val_loss: 8.9153e-04 - val_mae: 0.0238\n",
      "Epoch 28/300\n",
      "\u001b[1m18/18\u001b[0m \u001b[32m━━━━━━━━━━━━━━━━━━━━\u001b[0m\u001b[37m\u001b[0m \u001b[1m2s\u001b[0m 84ms/step - loss: 0.0020 - mae: 0.0308 - val_loss: 8.9279e-04 - val_mae: 0.0238\n"
     ]
    }
   ],
   "source": [
    "# best parameters from the Optuna study\n",
    "best_params_btc = study_lstm_btc.best_params\n",
    "# best_params_btc = {\n",
    "#     \"num_lstm_layers\": 3,\n",
    "#     \"lstm_units_1\": 192,\n",
    "#     \"lstm_units_2\": 128,\n",
    "#     \"lstm_units_3\": 32,\n",
    "#     \"num_dense_layers\": 2,\n",
    "#     \"dense_units_1\": 224,\n",
    "#     \"dense_units_2\": 192,\n",
    "#     \"dropout_rate\": 0.4,\n",
    "#     \"learning_rate\": 0.001277122777959738,\n",
    "#     \"batch_size\": 64,\n",
    "# }\n",
    "\n",
    "\n",
    "# Format the parameters correctly\n",
    "formatted_params = {\n",
    "    \"lstm_units\": [\n",
    "        best_params_btc[f\"lstm_units_{i+1}\"] for i in range(best_params_btc[\"num_lstm_layers\"])\n",
    "    ],\n",
    "    \"dense_units\": [\n",
    "        best_params_btc[f\"dense_units_{i+1}\"]\n",
    "        for i in range(best_params_btc[\"num_dense_layers\"])\n",
    "    ],\n",
    "    \"dropout_rate\": best_params_btc[\"dropout_rate\"],\n",
    "    \"learning_rate\": best_params_btc[\"learning_rate\"],\n",
    "    \"batch_size\": best_params_btc[\"batch_size\"],\n",
    "    \"epochs\": 300,\n",
    "}\n",
    "\n",
    "# Train the model with the formatted parameters\n",
    "model_btc, history_btc = train_lstm(\n",
    "    X_train_seq_btc,\n",
    "    y_train_seq_btc,\n",
    "    X_val_seq_btc,\n",
    "    y_val_seq_btc,\n",
    "    params=formatted_params,\n",
    ")"
   ]
  },
  {
   "cell_type": "code",
   "execution_count": 30,
   "metadata": {},
   "outputs": [
    {
     "name": "stdout",
     "output_type": "stream",
     "text": [
      "WARNING:tensorflow:5 out of the last 18 calls to <function TensorFlowTrainer.make_predict_function.<locals>.one_step_on_data_distributed at 0x30ddea660> triggered tf.function retracing. Tracing is expensive and the excessive number of tracings could be due to (1) creating @tf.function repeatedly in a loop, (2) passing tensors with different shapes, (3) passing Python objects instead of tensors. For (1), please define your @tf.function outside of the loop. For (2), @tf.function has reduce_retracing=True option that can avoid unnecessary retracing. For (3), please refer to https://www.tensorflow.org/guide/function#controlling_retracing and https://www.tensorflow.org/api_docs/python/tf/function for  more details.\n",
      "\u001b[1m8/8\u001b[0m \u001b[32m━━━━━━━━━━━━━━━━━━━━\u001b[0m\u001b[37m\u001b[0m \u001b[1m0s\u001b[0m 40ms/step\n"
     ]
    }
   ],
   "source": [
    "# save weights\n",
    "model_btc.save_weights(\n",
    "    config.DATA_DIR\n",
    "    / \"weights\"\n",
    "    / \"multi_source_data\"\n",
    "    / \"log_price_change_weights_btc.weights.h5\"\n",
    ")\n",
    "\n",
    "#  generate predictions\n",
    "y_pred_btc = model_btc.predict(X_test_seq_btc).flatten()\n",
    "\n",
    "# create new df and save it to csv\n",
    "predictions_btc = pd.DataFrame(\n",
    "    {\n",
    "        \"date\": y_test_btc.index[30:],\n",
    "        \"predictedLogPriceChange\": y_pred_btc,\n",
    "    }\n",
    ")\n",
    "\n",
    "\n",
    "predictions_btc.to_csv(\n",
    "    config.DATA_DIR\n",
    "    / \"predictions\"\n",
    "    / \"multi_source_data\"\n",
    "    / \"log_price_change_predictions_btc.csv\",\n",
    "    index=False,\n",
    ")"
   ]
  },
  {
   "cell_type": "markdown",
   "metadata": {},
   "source": [
    "# ETH"
   ]
  },
  {
   "cell_type": "markdown",
   "metadata": {},
   "source": [
    "### Model Tuning"
   ]
  },
  {
   "cell_type": "code",
   "execution_count": 31,
   "metadata": {},
   "outputs": [],
   "source": [
    "study_lstm_eth = tune_hyperparameters(\n",
    "    X_train_seq_eth,\n",
    "    y_train_seq_eth,\n",
    "    X_val_seq_eth,\n",
    "    y_val_seq_eth,\n",
    "    train_lstm,\n",
    "    n_trials=50,\n",
    ")"
   ]
  },
  {
   "cell_type": "markdown",
   "metadata": {},
   "source": [
    "## Model Training"
   ]
  },
  {
   "cell_type": "code",
   "execution_count": 32,
   "metadata": {},
   "outputs": [
    {
     "name": "stdout",
     "output_type": "stream",
     "text": [
      "Epoch 1/300\n",
      "\u001b[1m36/36\u001b[0m \u001b[32m━━━━━━━━━━━━━━━━━━━━\u001b[0m\u001b[37m\u001b[0m \u001b[1m2s\u001b[0m 30ms/step - loss: 0.0384 - mae: 0.1422 - val_loss: 0.0108 - val_mae: 0.0853\n",
      "Epoch 2/300\n",
      "\u001b[1m36/36\u001b[0m \u001b[32m━━━━━━━━━━━━━━━━━━━━\u001b[0m\u001b[37m\u001b[0m \u001b[1m1s\u001b[0m 29ms/step - loss: 0.0187 - mae: 0.1053 - val_loss: 0.0099 - val_mae: 0.0914\n",
      "Epoch 3/300\n",
      "\u001b[1m36/36\u001b[0m \u001b[32m━━━━━━━━━━━━━━━━━━━━\u001b[0m\u001b[37m\u001b[0m \u001b[1m1s\u001b[0m 28ms/step - loss: 0.0122 - mae: 0.0821 - val_loss: 0.0261 - val_mae: 0.1562\n",
      "Epoch 4/300\n",
      "\u001b[1m36/36\u001b[0m \u001b[32m━━━━━━━━━━━━━━━━━━━━\u001b[0m\u001b[37m\u001b[0m \u001b[1m1s\u001b[0m 32ms/step - loss: 0.0070 - mae: 0.0592 - val_loss: 0.0039 - val_mae: 0.0536\n",
      "Epoch 5/300\n",
      "\u001b[1m36/36\u001b[0m \u001b[32m━━━━━━━━━━━━━━━━━━━━\u001b[0m\u001b[37m\u001b[0m \u001b[1m1s\u001b[0m 29ms/step - loss: 0.0063 - mae: 0.0545 - val_loss: 0.0015 - val_mae: 0.0293\n",
      "Epoch 6/300\n",
      "\u001b[1m36/36\u001b[0m \u001b[32m━━━━━━━━━━━━━━━━━━━━\u001b[0m\u001b[37m\u001b[0m \u001b[1m1s\u001b[0m 29ms/step - loss: 0.0048 - mae: 0.0483 - val_loss: 0.0022 - val_mae: 0.0355\n",
      "Epoch 7/300\n",
      "\u001b[1m36/36\u001b[0m \u001b[32m━━━━━━━━━━━━━━━━━━━━\u001b[0m\u001b[37m\u001b[0m \u001b[1m1s\u001b[0m 30ms/step - loss: 0.0048 - mae: 0.0468 - val_loss: 0.0016 - val_mae: 0.0326\n",
      "Epoch 8/300\n",
      "\u001b[1m36/36\u001b[0m \u001b[32m━━━━━━━━━━━━━━━━━━━━\u001b[0m\u001b[37m\u001b[0m \u001b[1m1s\u001b[0m 29ms/step - loss: 0.0045 - mae: 0.0461 - val_loss: 0.0018 - val_mae: 0.0357\n",
      "Epoch 9/300\n",
      "\u001b[1m36/36\u001b[0m \u001b[32m━━━━━━━━━━━━━━━━━━━━\u001b[0m\u001b[37m\u001b[0m \u001b[1m1s\u001b[0m 32ms/step - loss: 0.0045 - mae: 0.0443 - val_loss: 0.0015 - val_mae: 0.0314\n",
      "Epoch 10/300\n",
      "\u001b[1m36/36\u001b[0m \u001b[32m━━━━━━━━━━━━━━━━━━━━\u001b[0m\u001b[37m\u001b[0m \u001b[1m1s\u001b[0m 32ms/step - loss: 0.0044 - mae: 0.0441 - val_loss: 0.0016 - val_mae: 0.0318\n",
      "Epoch 11/300\n",
      "\u001b[1m36/36\u001b[0m \u001b[32m━━━━━━━━━━━━━━━━━━━━\u001b[0m\u001b[37m\u001b[0m \u001b[1m1s\u001b[0m 34ms/step - loss: 0.0043 - mae: 0.0431 - val_loss: 0.0015 - val_mae: 0.0311\n",
      "Epoch 12/300\n",
      "\u001b[1m36/36\u001b[0m \u001b[32m━━━━━━━━━━━━━━━━━━━━\u001b[0m\u001b[37m\u001b[0m \u001b[1m1s\u001b[0m 31ms/step - loss: 0.0044 - mae: 0.0434 - val_loss: 0.0015 - val_mae: 0.0317\n",
      "Epoch 13/300\n",
      "\u001b[1m36/36\u001b[0m \u001b[32m━━━━━━━━━━━━━━━━━━━━\u001b[0m\u001b[37m\u001b[0m \u001b[1m1s\u001b[0m 30ms/step - loss: 0.0043 - mae: 0.0431 - val_loss: 0.0015 - val_mae: 0.0323\n",
      "Epoch 14/300\n",
      "\u001b[1m36/36\u001b[0m \u001b[32m━━━━━━━━━━━━━━━━━━━━\u001b[0m\u001b[37m\u001b[0m \u001b[1m1s\u001b[0m 30ms/step - loss: 0.0042 - mae: 0.0434 - val_loss: 0.0015 - val_mae: 0.0321\n",
      "Epoch 15/300\n",
      "\u001b[1m36/36\u001b[0m \u001b[32m━━━━━━━━━━━━━━━━━━━━\u001b[0m\u001b[37m\u001b[0m \u001b[1m1s\u001b[0m 31ms/step - loss: 0.0042 - mae: 0.0436 - val_loss: 0.0015 - val_mae: 0.0323\n",
      "Epoch 16/300\n",
      "\u001b[1m36/36\u001b[0m \u001b[32m━━━━━━━━━━━━━━━━━━━━\u001b[0m\u001b[37m\u001b[0m \u001b[1m1s\u001b[0m 32ms/step - loss: 0.0043 - mae: 0.0434 - val_loss: 0.0015 - val_mae: 0.0325\n",
      "Epoch 17/300\n",
      "\u001b[1m36/36\u001b[0m \u001b[32m━━━━━━━━━━━━━━━━━━━━\u001b[0m\u001b[37m\u001b[0m \u001b[1m1s\u001b[0m 35ms/step - loss: 0.0043 - mae: 0.0435 - val_loss: 0.0016 - val_mae: 0.0321\n",
      "Epoch 18/300\n",
      "\u001b[1m36/36\u001b[0m \u001b[32m━━━━━━━━━━━━━━━━━━━━\u001b[0m\u001b[37m\u001b[0m \u001b[1m1s\u001b[0m 33ms/step - loss: 0.0044 - mae: 0.0438 - val_loss: 0.0015 - val_mae: 0.0318\n",
      "Epoch 19/300\n",
      "\u001b[1m36/36\u001b[0m \u001b[32m━━━━━━━━━━━━━━━━━━━━\u001b[0m\u001b[37m\u001b[0m \u001b[1m1s\u001b[0m 33ms/step - loss: 0.0043 - mae: 0.0432 - val_loss: 0.0015 - val_mae: 0.0314\n",
      "Epoch 20/300\n",
      "\u001b[1m36/36\u001b[0m \u001b[32m━━━━━━━━━━━━━━━━━━━━\u001b[0m\u001b[37m\u001b[0m \u001b[1m1s\u001b[0m 34ms/step - loss: 0.0043 - mae: 0.0426 - val_loss: 0.0015 - val_mae: 0.0315\n",
      "Epoch 21/300\n",
      "\u001b[1m36/36\u001b[0m \u001b[32m━━━━━━━━━━━━━━━━━━━━\u001b[0m\u001b[37m\u001b[0m \u001b[1m1s\u001b[0m 33ms/step - loss: 0.0044 - mae: 0.0436 - val_loss: 0.0015 - val_mae: 0.0316\n",
      "Epoch 22/300\n",
      "\u001b[1m36/36\u001b[0m \u001b[32m━━━━━━━━━━━━━━━━━━━━\u001b[0m\u001b[37m\u001b[0m \u001b[1m1s\u001b[0m 30ms/step - loss: 0.0043 - mae: 0.0434 - val_loss: 0.0015 - val_mae: 0.0321\n",
      "Epoch 23/300\n",
      "\u001b[1m36/36\u001b[0m \u001b[32m━━━━━━━━━━━━━━━━━━━━\u001b[0m\u001b[37m\u001b[0m \u001b[1m1s\u001b[0m 30ms/step - loss: 0.0042 - mae: 0.0436 - val_loss: 0.0015 - val_mae: 0.0317\n",
      "Epoch 24/300\n",
      "\u001b[1m36/36\u001b[0m \u001b[32m━━━━━━━━━━━━━━━━━━━━\u001b[0m\u001b[37m\u001b[0m \u001b[1m1s\u001b[0m 32ms/step - loss: 0.0042 - mae: 0.0428 - val_loss: 0.0015 - val_mae: 0.0312\n",
      "Epoch 25/300\n",
      "\u001b[1m36/36\u001b[0m \u001b[32m━━━━━━━━━━━━━━━━━━━━\u001b[0m\u001b[37m\u001b[0m \u001b[1m1s\u001b[0m 30ms/step - loss: 0.0046 - mae: 0.0444 - val_loss: 0.0015 - val_mae: 0.0312\n",
      "Epoch 26/300\n",
      "\u001b[1m36/36\u001b[0m \u001b[32m━━━━━━━━━━━━━━━━━━━━\u001b[0m\u001b[37m\u001b[0m \u001b[1m1s\u001b[0m 32ms/step - loss: 0.0043 - mae: 0.0437 - val_loss: 0.0016 - val_mae: 0.0317\n",
      "Epoch 27/300\n",
      "\u001b[1m36/36\u001b[0m \u001b[32m━━━━━━━━━━━━━━━━━━━━\u001b[0m\u001b[37m\u001b[0m \u001b[1m1s\u001b[0m 32ms/step - loss: 0.0043 - mae: 0.0435 - val_loss: 0.0015 - val_mae: 0.0319\n",
      "Epoch 28/300\n",
      "\u001b[1m36/36\u001b[0m \u001b[32m━━━━━━━━━━━━━━━━━━━━\u001b[0m\u001b[37m\u001b[0m \u001b[1m1s\u001b[0m 31ms/step - loss: 0.0043 - mae: 0.0429 - val_loss: 0.0016 - val_mae: 0.0322\n",
      "Epoch 29/300\n",
      "\u001b[1m36/36\u001b[0m \u001b[32m━━━━━━━━━━━━━━━━━━━━\u001b[0m\u001b[37m\u001b[0m \u001b[1m1s\u001b[0m 31ms/step - loss: 0.0043 - mae: 0.0436 - val_loss: 0.0015 - val_mae: 0.0313\n",
      "Epoch 30/300\n",
      "\u001b[1m36/36\u001b[0m \u001b[32m━━━━━━━━━━━━━━━━━━━━\u001b[0m\u001b[37m\u001b[0m \u001b[1m1s\u001b[0m 32ms/step - loss: 0.0042 - mae: 0.0430 - val_loss: 0.0015 - val_mae: 0.0310\n",
      "Epoch 31/300\n",
      "\u001b[1m36/36\u001b[0m \u001b[32m━━━━━━━━━━━━━━━━━━━━\u001b[0m\u001b[37m\u001b[0m \u001b[1m1s\u001b[0m 32ms/step - loss: 0.0043 - mae: 0.0434 - val_loss: 0.0016 - val_mae: 0.0324\n",
      "Epoch 32/300\n",
      "\u001b[1m36/36\u001b[0m \u001b[32m━━━━━━━━━━━━━━━━━━━━\u001b[0m\u001b[37m\u001b[0m \u001b[1m1s\u001b[0m 29ms/step - loss: 0.0042 - mae: 0.0431 - val_loss: 0.0016 - val_mae: 0.0329\n",
      "Epoch 33/300\n",
      "\u001b[1m36/36\u001b[0m \u001b[32m━━━━━━━━━━━━━━━━━━━━\u001b[0m\u001b[37m\u001b[0m \u001b[1m1s\u001b[0m 30ms/step - loss: 0.0042 - mae: 0.0436 - val_loss: 0.0015 - val_mae: 0.0315\n",
      "Epoch 34/300\n",
      "\u001b[1m36/36\u001b[0m \u001b[32m━━━━━━━━━━━━━━━━━━━━\u001b[0m\u001b[37m\u001b[0m \u001b[1m1s\u001b[0m 31ms/step - loss: 0.0043 - mae: 0.0430 - val_loss: 0.0015 - val_mae: 0.0314\n",
      "Epoch 35/300\n",
      "\u001b[1m36/36\u001b[0m \u001b[32m━━━━━━━━━━━━━━━━━━━━\u001b[0m\u001b[37m\u001b[0m \u001b[1m1s\u001b[0m 34ms/step - loss: 0.0043 - mae: 0.0436 - val_loss: 0.0015 - val_mae: 0.0313\n",
      "Epoch 36/300\n",
      "\u001b[1m36/36\u001b[0m \u001b[32m━━━━━━━━━━━━━━━━━━━━\u001b[0m\u001b[37m\u001b[0m \u001b[1m1s\u001b[0m 32ms/step - loss: 0.0042 - mae: 0.0432 - val_loss: 0.0015 - val_mae: 0.0317\n",
      "Epoch 37/300\n",
      "\u001b[1m36/36\u001b[0m \u001b[32m━━━━━━━━━━━━━━━━━━━━\u001b[0m\u001b[37m\u001b[0m \u001b[1m1s\u001b[0m 32ms/step - loss: 0.0043 - mae: 0.0431 - val_loss: 0.0015 - val_mae: 0.0323\n",
      "Epoch 38/300\n",
      "\u001b[1m36/36\u001b[0m \u001b[32m━━━━━━━━━━━━━━━━━━━━\u001b[0m\u001b[37m\u001b[0m \u001b[1m1s\u001b[0m 29ms/step - loss: 0.0043 - mae: 0.0432 - val_loss: 0.0016 - val_mae: 0.0326\n",
      "Epoch 39/300\n",
      "\u001b[1m36/36\u001b[0m \u001b[32m━━━━━━━━━━━━━━━━━━━━\u001b[0m\u001b[37m\u001b[0m \u001b[1m1s\u001b[0m 30ms/step - loss: 0.0042 - mae: 0.0432 - val_loss: 0.0015 - val_mae: 0.0319\n",
      "Epoch 40/300\n",
      "\u001b[1m36/36\u001b[0m \u001b[32m━━━━━━━━━━━━━━━━━━━━\u001b[0m\u001b[37m\u001b[0m \u001b[1m1s\u001b[0m 29ms/step - loss: 0.0041 - mae: 0.0427 - val_loss: 0.0015 - val_mae: 0.0312\n",
      "Epoch 41/300\n",
      "\u001b[1m36/36\u001b[0m \u001b[32m━━━━━━━━━━━━━━━━━━━━\u001b[0m\u001b[37m\u001b[0m \u001b[1m1s\u001b[0m 30ms/step - loss: 0.0043 - mae: 0.0436 - val_loss: 0.0015 - val_mae: 0.0317\n",
      "Epoch 42/300\n",
      "\u001b[1m36/36\u001b[0m \u001b[32m━━━━━━━━━━━━━━━━━━━━\u001b[0m\u001b[37m\u001b[0m \u001b[1m1s\u001b[0m 31ms/step - loss: 0.0043 - mae: 0.0434 - val_loss: 0.0015 - val_mae: 0.0313\n",
      "Epoch 43/300\n",
      "\u001b[1m36/36\u001b[0m \u001b[32m━━━━━━━━━━━━━━━━━━━━\u001b[0m\u001b[37m\u001b[0m \u001b[1m1s\u001b[0m 31ms/step - loss: 0.0042 - mae: 0.0430 - val_loss: 0.0015 - val_mae: 0.0320\n",
      "Epoch 44/300\n",
      "\u001b[1m36/36\u001b[0m \u001b[32m━━━━━━━━━━━━━━━━━━━━\u001b[0m\u001b[37m\u001b[0m \u001b[1m1s\u001b[0m 31ms/step - loss: 0.0041 - mae: 0.0422 - val_loss: 0.0016 - val_mae: 0.0331\n",
      "Epoch 45/300\n",
      "\u001b[1m36/36\u001b[0m \u001b[32m━━━━━━━━━━━━━━━━━━━━\u001b[0m\u001b[37m\u001b[0m \u001b[1m1s\u001b[0m 31ms/step - loss: 0.0044 - mae: 0.0450 - val_loss: 0.0017 - val_mae: 0.0320\n",
      "Epoch 46/300\n",
      "\u001b[1m36/36\u001b[0m \u001b[32m━━━━━━━━━━━━━━━━━━━━\u001b[0m\u001b[37m\u001b[0m \u001b[1m1s\u001b[0m 33ms/step - loss: 0.0043 - mae: 0.0434 - val_loss: 0.0015 - val_mae: 0.0309\n",
      "Epoch 47/300\n",
      "\u001b[1m36/36\u001b[0m \u001b[32m━━━━━━━━━━━━━━━━━━━━\u001b[0m\u001b[37m\u001b[0m \u001b[1m1s\u001b[0m 33ms/step - loss: 0.0043 - mae: 0.0430 - val_loss: 0.0015 - val_mae: 0.0312\n",
      "Epoch 48/300\n",
      "\u001b[1m36/36\u001b[0m \u001b[32m━━━━━━━━━━━━━━━━━━━━\u001b[0m\u001b[37m\u001b[0m \u001b[1m1s\u001b[0m 32ms/step - loss: 0.0043 - mae: 0.0430 - val_loss: 0.0015 - val_mae: 0.0315\n",
      "Epoch 49/300\n",
      "\u001b[1m36/36\u001b[0m \u001b[32m━━━━━━━━━━━━━━━━━━━━\u001b[0m\u001b[37m\u001b[0m \u001b[1m1s\u001b[0m 34ms/step - loss: 0.0043 - mae: 0.0432 - val_loss: 0.0016 - val_mae: 0.0324\n",
      "Epoch 50/300\n",
      "\u001b[1m36/36\u001b[0m \u001b[32m━━━━━━━━━━━━━━━━━━━━\u001b[0m\u001b[37m\u001b[0m \u001b[1m1s\u001b[0m 33ms/step - loss: 0.0042 - mae: 0.0430 - val_loss: 0.0014 - val_mae: 0.0305\n",
      "Epoch 51/300\n",
      "\u001b[1m36/36\u001b[0m \u001b[32m━━━━━━━━━━━━━━━━━━━━\u001b[0m\u001b[37m\u001b[0m \u001b[1m1s\u001b[0m 34ms/step - loss: 0.0043 - mae: 0.0437 - val_loss: 0.0015 - val_mae: 0.0312\n",
      "Epoch 52/300\n",
      "\u001b[1m36/36\u001b[0m \u001b[32m━━━━━━━━━━━━━━━━━━━━\u001b[0m\u001b[37m\u001b[0m \u001b[1m1s\u001b[0m 34ms/step - loss: 0.0042 - mae: 0.0430 - val_loss: 0.0015 - val_mae: 0.0310\n",
      "Epoch 53/300\n",
      "\u001b[1m36/36\u001b[0m \u001b[32m━━━━━━━━━━━━━━━━━━━━\u001b[0m\u001b[37m\u001b[0m \u001b[1m1s\u001b[0m 32ms/step - loss: 0.0042 - mae: 0.0429 - val_loss: 0.0015 - val_mae: 0.0312\n",
      "Epoch 54/300\n",
      "\u001b[1m36/36\u001b[0m \u001b[32m━━━━━━━━━━━━━━━━━━━━\u001b[0m\u001b[37m\u001b[0m \u001b[1m1s\u001b[0m 32ms/step - loss: 0.0042 - mae: 0.0431 - val_loss: 0.0015 - val_mae: 0.0316\n",
      "Epoch 55/300\n",
      "\u001b[1m36/36\u001b[0m \u001b[32m━━━━━━━━━━━━━━━━━━━━\u001b[0m\u001b[37m\u001b[0m \u001b[1m1s\u001b[0m 34ms/step - loss: 0.0042 - mae: 0.0432 - val_loss: 0.0015 - val_mae: 0.0317\n",
      "Epoch 56/300\n",
      "\u001b[1m36/36\u001b[0m \u001b[32m━━━━━━━━━━━━━━━━━━━━\u001b[0m\u001b[37m\u001b[0m \u001b[1m1s\u001b[0m 32ms/step - loss: 0.0042 - mae: 0.0428 - val_loss: 0.0014 - val_mae: 0.0308\n",
      "Epoch 57/300\n",
      "\u001b[1m36/36\u001b[0m \u001b[32m━━━━━━━━━━━━━━━━━━━━\u001b[0m\u001b[37m\u001b[0m \u001b[1m1s\u001b[0m 33ms/step - loss: 0.0042 - mae: 0.0429 - val_loss: 0.0015 - val_mae: 0.0311\n",
      "Epoch 58/300\n",
      "\u001b[1m36/36\u001b[0m \u001b[32m━━━━━━━━━━━━━━━━━━━━\u001b[0m\u001b[37m\u001b[0m \u001b[1m1s\u001b[0m 33ms/step - loss: 0.0044 - mae: 0.0441 - val_loss: 0.0014 - val_mae: 0.0310\n",
      "Epoch 59/300\n",
      "\u001b[1m36/36\u001b[0m \u001b[32m━━━━━━━━━━━━━━━━━━━━\u001b[0m\u001b[37m\u001b[0m \u001b[1m1s\u001b[0m 32ms/step - loss: 0.0042 - mae: 0.0429 - val_loss: 0.0015 - val_mae: 0.0312\n",
      "Epoch 60/300\n",
      "\u001b[1m36/36\u001b[0m \u001b[32m━━━━━━━━━━━━━━━━━━━━\u001b[0m\u001b[37m\u001b[0m \u001b[1m1s\u001b[0m 32ms/step - loss: 0.0042 - mae: 0.0428 - val_loss: 0.0015 - val_mae: 0.0308\n",
      "Epoch 61/300\n",
      "\u001b[1m36/36\u001b[0m \u001b[32m━━━━━━━━━━━━━━━━━━━━\u001b[0m\u001b[37m\u001b[0m \u001b[1m1s\u001b[0m 34ms/step - loss: 0.0042 - mae: 0.0424 - val_loss: 0.0015 - val_mae: 0.0315\n",
      "Epoch 62/300\n",
      "\u001b[1m36/36\u001b[0m \u001b[32m━━━━━━━━━━━━━━━━━━━━\u001b[0m\u001b[37m\u001b[0m \u001b[1m1s\u001b[0m 33ms/step - loss: 0.0042 - mae: 0.0432 - val_loss: 0.0015 - val_mae: 0.0304\n",
      "Epoch 63/300\n",
      "\u001b[1m36/36\u001b[0m \u001b[32m━━━━━━━━━━━━━━━━━━━━\u001b[0m\u001b[37m\u001b[0m \u001b[1m1s\u001b[0m 34ms/step - loss: 0.0042 - mae: 0.0430 - val_loss: 0.0015 - val_mae: 0.0308\n",
      "Epoch 64/300\n",
      "\u001b[1m36/36\u001b[0m \u001b[32m━━━━━━━━━━━━━━━━━━━━\u001b[0m\u001b[37m\u001b[0m \u001b[1m1s\u001b[0m 34ms/step - loss: 0.0042 - mae: 0.0432 - val_loss: 0.0015 - val_mae: 0.0309\n",
      "Epoch 65/300\n",
      "\u001b[1m36/36\u001b[0m \u001b[32m━━━━━━━━━━━━━━━━━━━━\u001b[0m\u001b[37m\u001b[0m \u001b[1m1s\u001b[0m 34ms/step - loss: 0.0041 - mae: 0.0423 - val_loss: 0.0014 - val_mae: 0.0305\n",
      "Epoch 66/300\n",
      "\u001b[1m36/36\u001b[0m \u001b[32m━━━━━━━━━━━━━━━━━━━━\u001b[0m\u001b[37m\u001b[0m \u001b[1m1s\u001b[0m 35ms/step - loss: 0.0042 - mae: 0.0432 - val_loss: 0.0015 - val_mae: 0.0319\n",
      "Epoch 67/300\n",
      "\u001b[1m36/36\u001b[0m \u001b[32m━━━━━━━━━━━━━━━━━━━━\u001b[0m\u001b[37m\u001b[0m \u001b[1m1s\u001b[0m 33ms/step - loss: 0.0042 - mae: 0.0432 - val_loss: 0.0018 - val_mae: 0.0337\n",
      "Epoch 68/300\n",
      "\u001b[1m36/36\u001b[0m \u001b[32m━━━━━━━━━━━━━━━━━━━━\u001b[0m\u001b[37m\u001b[0m \u001b[1m1s\u001b[0m 31ms/step - loss: 0.0041 - mae: 0.0429 - val_loss: 0.0015 - val_mae: 0.0310\n",
      "Epoch 69/300\n",
      "\u001b[1m36/36\u001b[0m \u001b[32m━━━━━━━━━━━━━━━━━━━━\u001b[0m\u001b[37m\u001b[0m \u001b[1m1s\u001b[0m 29ms/step - loss: 0.0042 - mae: 0.0430 - val_loss: 0.0015 - val_mae: 0.0306\n",
      "Epoch 70/300\n",
      "\u001b[1m36/36\u001b[0m \u001b[32m━━━━━━━━━━━━━━━━━━━━\u001b[0m\u001b[37m\u001b[0m \u001b[1m1s\u001b[0m 31ms/step - loss: 0.0040 - mae: 0.0425 - val_loss: 0.0017 - val_mae: 0.0328\n"
     ]
    }
   ],
   "source": [
    "# best parameters from the Optuna study\n",
    "best_params_eth = study_lstm_eth.best_params\n",
    "# best_params_eth = {\n",
    "#     \"num_lstm_layers\": 1,\n",
    "#     \"lstm_units_1\": 224,\n",
    "#     \"num_dense_layers\": 2,\n",
    "#     \"dense_units_1\": 96,\n",
    "#     \"dense_units_2\": 256,\n",
    "#     \"dropout_rate\": 0.2,\n",
    "#     \"learning_rate\": 0.0014383064200000338,\n",
    "#     \"batch_size\": 32,\n",
    "# }\n",
    "\n",
    "\n",
    "# Format the parameters correctly\n",
    "formatted_params = {\n",
    "    \"lstm_units\": [\n",
    "        best_params_eth[f\"lstm_units_{i+1}\"] for i in range(best_params_eth[\"num_lstm_layers\"])\n",
    "    ],\n",
    "    \"dense_units\": [\n",
    "        best_params_eth[f\"dense_units_{i+1}\"]\n",
    "        for i in range(best_params_eth[\"num_dense_layers\"])\n",
    "    ],\n",
    "    \"dropout_rate\": best_params_eth[\"dropout_rate\"],\n",
    "    \"learning_rate\": best_params_eth[\"learning_rate\"],\n",
    "    \"batch_size\": best_params_eth[\"batch_size\"],\n",
    "    \"epochs\": 300,\n",
    "}\n",
    "\n",
    "# Train the model with the formatted parameters\n",
    "model_eth, history_eth = train_lstm(\n",
    "    X_train_seq_eth,\n",
    "    y_train_seq_eth,\n",
    "    X_val_seq_eth,\n",
    "    y_val_seq_eth,\n",
    "    params=formatted_params,\n",
    ")"
   ]
  },
  {
   "cell_type": "code",
   "execution_count": 33,
   "metadata": {},
   "outputs": [
    {
     "name": "stdout",
     "output_type": "stream",
     "text": [
      "WARNING:tensorflow:5 out of the last 16 calls to <function TensorFlowTrainer.make_predict_function.<locals>.one_step_on_data_distributed at 0x31e5db7e0> triggered tf.function retracing. Tracing is expensive and the excessive number of tracings could be due to (1) creating @tf.function repeatedly in a loop, (2) passing tensors with different shapes, (3) passing Python objects instead of tensors. For (1), please define your @tf.function outside of the loop. For (2), @tf.function has reduce_retracing=True option that can avoid unnecessary retracing. For (3), please refer to https://www.tensorflow.org/guide/function#controlling_retracing and https://www.tensorflow.org/api_docs/python/tf/function for  more details.\n",
      "\u001b[1m8/8\u001b[0m \u001b[32m━━━━━━━━━━━━━━━━━━━━\u001b[0m\u001b[37m\u001b[0m \u001b[1m0s\u001b[0m 19ms/step\n"
     ]
    }
   ],
   "source": [
    "# save weights\n",
    "model_eth.save_weights(\n",
    "    config.DATA_DIR\n",
    "    / \"weights\"\n",
    "    / \"multi_source_data\"\n",
    "    / \"log_price_change_weights_eth.weights.h5\"\n",
    ")\n",
    "\n",
    "#  generate predictions\n",
    "y_pred_eth = model_eth.predict(X_test_seq_eth).flatten()\n",
    "\n",
    "# create new df and save it to csv\n",
    "predictions_eth = pd.DataFrame(\n",
    "    {\n",
    "        \"date\": y_test_eth.index[30:],\n",
    "        \"predictedLogPriceChange\": y_pred_eth,\n",
    "    }\n",
    ")\n",
    "\n",
    "\n",
    "predictions_eth.to_csv(\n",
    "    config.DATA_DIR\n",
    "    / \"predictions\"\n",
    "    / \"multi_source_data\"\n",
    "    / \"log_price_change_predictions_eth.csv\",\n",
    "    index=False,\n",
    ")"
   ]
  },
  {
   "cell_type": "code",
   "execution_count": null,
   "metadata": {},
   "outputs": [],
   "source": []
  }
 ],
 "metadata": {
  "kernelspec": {
   "display_name": "env",
   "language": "python",
   "name": "python3"
  },
  "language_info": {
   "codemirror_mode": {
    "name": "ipython",
    "version": 3
   },
   "file_extension": ".py",
   "mimetype": "text/x-python",
   "name": "python",
   "nbconvert_exporter": "python",
   "pygments_lexer": "ipython3",
   "version": "3.12.0"
  }
 },
 "nbformat": 4,
 "nbformat_minor": 2
}
