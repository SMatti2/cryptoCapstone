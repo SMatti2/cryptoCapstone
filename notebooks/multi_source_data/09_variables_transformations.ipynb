{
 "cells": [
  {
   "cell_type": "code",
   "execution_count": 4,
   "metadata": {},
   "outputs": [],
   "source": [
    "import pandas as pd\n",
    "\n",
    "from src.preprocessing.transformations.heteroskedasticity import (\n",
    "    log_heteroskedastic_vars,\n",
    ")\n",
    "from src.preprocessing.transformations.stationarity import (\n",
    "    difference_non_stationary_features,\n",
    ")\n",
    "from config import config\n",
    "\n",
    "df_btc = pd.read_csv(\n",
    "    config.DATA_DIR / \"processed\" / \"crypto_prices\" / \"btc.csv\",\n",
    "    parse_dates=[\"date\"],\n",
    "    index_col=\"date\",\n",
    ")\n",
    "df_eth = pd.read_csv(\n",
    "    config.DATA_DIR / \"processed\" / \"crypto_prices\" / \"eth.csv\",\n",
    "    parse_dates=[\"date\"],\n",
    "    index_col=\"date\",\n",
    ")"
   ]
  },
  {
   "cell_type": "markdown",
   "metadata": {},
   "source": [
    "# Heteroskedasticity"
   ]
  },
  {
   "cell_type": "code",
   "execution_count": 5,
   "metadata": {},
   "outputs": [
    {
     "name": "stderr",
     "output_type": "stream",
     "text": [
      "/Users/matti/coding/cryptoCapstone/env/lib/python3.12/site-packages/statsmodels/regression/linear_model.py:1782: RuntimeWarning: divide by zero encountered in scalar divide\n",
      "  return 1 - self.ssr/self.centered_tss\n"
     ]
    }
   ],
   "source": [
    "log_heteroskedastic_vars(df_btc).to_csv(\n",
    "    config.DATA_DIR / \"processed\" / \"crypto_prices\" / \"btc.csv\"\n",
    ")\n",
    "log_heteroskedastic_vars(df_eth).to_csv(\n",
    "    config.DATA_DIR / \"processed\" / \"crypto_prices\" / \"eth.csv\"\n",
    ")"
   ]
  },
  {
   "cell_type": "markdown",
   "metadata": {},
   "source": [
    "# Stationarity"
   ]
  },
  {
   "cell_type": "code",
   "execution_count": 6,
   "metadata": {},
   "outputs": [],
   "source": [
    "df_btc_clean, _ = difference_non_stationary_features(df_btc)\n",
    "df_btc_clean.to_csv(config.DATA_DIR / \"processed\" / \"crypto_prices\" / \"btc.csv\")\n",
    "\n",
    "df_eth_clean, _ = difference_non_stationary_features(df_eth)\n",
    "df_eth_clean.to_csv(config.DATA_DIR / \"processed\" / \"crypto_prices\" / \"eth.csv\")"
   ]
  }
 ],
 "metadata": {
  "kernelspec": {
   "display_name": "env",
   "language": "python",
   "name": "python3"
  },
  "language_info": {
   "codemirror_mode": {
    "name": "ipython",
    "version": 3
   },
   "file_extension": ".py",
   "mimetype": "text/x-python",
   "name": "python",
   "nbconvert_exporter": "python",
   "pygments_lexer": "ipython3",
   "version": "3.12.0"
  }
 },
 "nbformat": 4,
 "nbformat_minor": 2
}
