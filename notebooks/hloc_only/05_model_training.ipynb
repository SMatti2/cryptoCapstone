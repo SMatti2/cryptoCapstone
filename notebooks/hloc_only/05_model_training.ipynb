{
 "cells": [
  {
   "cell_type": "code",
   "execution_count": 1,
   "metadata": {},
   "outputs": [],
   "source": [
    "import pandas as pd\n",
    "import seaborn as sns\n",
    "import numpy as np\n",
    "import matplotlib.pyplot as plt\n",
    "\n",
    "from pathlib import Path\n",
    "\n",
    "from src.processing.splitting import time_based_split\n",
    "from src.processing.scaling import scale_features\n",
    "from src.processing.sequence_creator import create_sequences\n",
    "from src.training.lstm_training import train_lstm\n",
    "from config import config\n",
    "\n",
    "\n",
    "df_btc = pd.read_csv(\n",
    "    config.DATA_DIR / \"processed\" / \"crypto_prices\" / \"btc.csv\",\n",
    "    parse_dates=[\"date\"],\n",
    "    index_col=\"date\",\n",
    ")\n",
    "df_eth = pd.read_csv(\n",
    "    config.DATA_DIR / \"processed\" / \"crypto_prices\" / \"eth.csv\",\n",
    "    parse_dates=[\"date\"],\n",
    "    index_col=\"date\",\n",
    ")"
   ]
  },
  {
   "cell_type": "markdown",
   "metadata": {},
   "source": [
    "## Split\n"
   ]
  },
  {
   "cell_type": "code",
   "execution_count": 2,
   "metadata": {},
   "outputs": [
    {
     "name": "stderr",
     "output_type": "stream",
     "text": [
      "/Users/matti/coding/cryptoCapstone/src/processing/splitting.py:31: SettingWithCopyWarning: \n",
      "A value is trying to be set on a copy of a slice from a DataFrame.\n",
      "Try using .loc[row_indexer,col_indexer] = value instead\n",
      "\n",
      "See the caveats in the documentation: https://pandas.pydata.org/pandas-docs/stable/user_guide/indexing.html#returning-a-view-versus-a-copy\n",
      "  train[target] = train[target].shift(-1)\n",
      "/Users/matti/coding/cryptoCapstone/src/processing/splitting.py:32: SettingWithCopyWarning: \n",
      "A value is trying to be set on a copy of a slice from a DataFrame.\n",
      "Try using .loc[row_indexer,col_indexer] = value instead\n",
      "\n",
      "See the caveats in the documentation: https://pandas.pydata.org/pandas-docs/stable/user_guide/indexing.html#returning-a-view-versus-a-copy\n",
      "  val[target] = val[target].shift(-1)\n",
      "/Users/matti/coding/cryptoCapstone/src/processing/splitting.py:33: SettingWithCopyWarning: \n",
      "A value is trying to be set on a copy of a slice from a DataFrame.\n",
      "Try using .loc[row_indexer,col_indexer] = value instead\n",
      "\n",
      "See the caveats in the documentation: https://pandas.pydata.org/pandas-docs/stable/user_guide/indexing.html#returning-a-view-versus-a-copy\n",
      "  test[target] = test[target].shift(-1)\n",
      "/Users/matti/coding/cryptoCapstone/src/processing/splitting.py:31: SettingWithCopyWarning: \n",
      "A value is trying to be set on a copy of a slice from a DataFrame.\n",
      "Try using .loc[row_indexer,col_indexer] = value instead\n",
      "\n",
      "See the caveats in the documentation: https://pandas.pydata.org/pandas-docs/stable/user_guide/indexing.html#returning-a-view-versus-a-copy\n",
      "  train[target] = train[target].shift(-1)\n",
      "/Users/matti/coding/cryptoCapstone/src/processing/splitting.py:32: SettingWithCopyWarning: \n",
      "A value is trying to be set on a copy of a slice from a DataFrame.\n",
      "Try using .loc[row_indexer,col_indexer] = value instead\n",
      "\n",
      "See the caveats in the documentation: https://pandas.pydata.org/pandas-docs/stable/user_guide/indexing.html#returning-a-view-versus-a-copy\n",
      "  val[target] = val[target].shift(-1)\n",
      "/Users/matti/coding/cryptoCapstone/src/processing/splitting.py:33: SettingWithCopyWarning: \n",
      "A value is trying to be set on a copy of a slice from a DataFrame.\n",
      "Try using .loc[row_indexer,col_indexer] = value instead\n",
      "\n",
      "See the caveats in the documentation: https://pandas.pydata.org/pandas-docs/stable/user_guide/indexing.html#returning-a-view-versus-a-copy\n",
      "  test[target] = test[target].shift(-1)\n"
     ]
    }
   ],
   "source": [
    "X_train_btc, y_train_btc, X_val_btc, y_val_btc, X_test_btc, y_test_btc = (\n",
    "    time_based_split(\n",
    "        df_btc,\n",
    "        targets=[\"logPriceChange\"],\n",
    "        test_months=12,\n",
    "        val_months=3,\n",
    "        lags=30,\n",
    "    )\n",
    ")\n",
    "\n",
    "X_train_eth, y_train_eth, X_val_eth, y_val_eth, X_test_eth, y_test_eth = (\n",
    "    time_based_split(\n",
    "        df_eth,\n",
    "        targets=[\"logPriceChange\"],\n",
    "        test_months=12,\n",
    "        val_months=3,\n",
    "        lags=30,\n",
    "    )\n",
    ")"
   ]
  },
  {
   "cell_type": "code",
   "execution_count": 3,
   "metadata": {},
   "outputs": [
    {
     "name": "stdout",
     "output_type": "stream",
     "text": [
      "            logPriceChange\n",
      "date                      \n",
      "2022-12-15       -0.042190\n",
      "2022-12-16        0.008828\n",
      "2022-12-17       -0.002212\n",
      "2022-12-18       -0.019176\n",
      "2022-12-19        0.027989\n",
      "            logPriceChange\n",
      "date                      \n",
      "2021-11-21       -0.042455\n",
      "2021-11-22        0.022481\n",
      "2021-11-23       -0.022639\n",
      "2021-11-24        0.017512\n",
      "2021-11-25       -0.066874\n"
     ]
    }
   ],
   "source": [
    "print(y_test_btc.tail())\n",
    "print(y_test_btc.head())"
   ]
  },
  {
   "cell_type": "markdown",
   "metadata": {},
   "source": [
    "## Scale\n"
   ]
  },
  {
   "cell_type": "code",
   "execution_count": 4,
   "metadata": {},
   "outputs": [],
   "source": [
    "X_train_scaled_btc, X_val_scaled_btc, X_test_scaled_btc, scaler_btc = scale_features(\n",
    "    X_train_btc, X_val_btc, X_test_btc\n",
    ")\n",
    "\n",
    "X_train_scaled_eth, X_val_scaled_eth, X_test_scaled_eth, scaler_eth = scale_features(\n",
    "    X_train_eth, X_val_eth, X_test_eth\n",
    ")"
   ]
  },
  {
   "cell_type": "markdown",
   "metadata": {},
   "source": [
    "## Sequence Creation\n"
   ]
  },
  {
   "cell_type": "code",
   "execution_count": 5,
   "metadata": {},
   "outputs": [
    {
     "name": "stdout",
     "output_type": "stream",
     "text": [
      "X_train_seq_btc shape: (1662, 30, 72)\n",
      "y_train_seq_btc shape: (1662, 1)\n"
     ]
    }
   ],
   "source": [
    "X_train_seq_btc, y_train_seq_btc = create_sequences(\n",
    "    X_train_scaled_btc, y_train_btc, seq_length=30\n",
    ")\n",
    "X_val_seq_btc, y_val_seq_btc = create_sequences(\n",
    "    X_val_scaled_btc, y_val_btc, seq_length=30\n",
    ")\n",
    "X_test_seq_btc, y_test_seq_btc = create_sequences(\n",
    "    X_test_scaled_btc, y_test_btc, seq_length=30\n",
    ")\n",
    "\n",
    "print(f\"X_train_seq_btc shape: {X_train_seq_btc.shape}\")\n",
    "print(f\"y_train_seq_btc shape: {y_train_seq_btc.shape}\")\n",
    "\n",
    "X_train_seq_eth, y_train_seq_eth = create_sequences(\n",
    "    X_train_scaled_eth, y_train_eth, seq_length=30\n",
    ")\n",
    "X_val_seq_eth, y_val_seq_eth = create_sequences(\n",
    "    X_val_scaled_eth, y_val_eth, seq_length=30\n",
    ")\n",
    "X_test_seq_eth, y_test_seq_eth = create_sequences(\n",
    "    X_test_scaled_eth, y_test_eth, seq_length=30\n",
    ")"
   ]
  },
  {
   "cell_type": "markdown",
   "metadata": {},
   "source": [
    "# BTC\n"
   ]
  },
  {
   "cell_type": "markdown",
   "metadata": {},
   "source": [
    "### Model Tuning"
   ]
  },
  {
   "cell_type": "code",
   "execution_count": 6,
   "metadata": {},
   "outputs": [
    {
     "name": "stderr",
     "output_type": "stream",
     "text": [
      "[I 2025-02-10 15:36:44,608] A new study created in memory with name: no-name-81e352fc-3b56-4ed0-a768-c465da172968\n"
     ]
    },
    {
     "name": "stdout",
     "output_type": "stream",
     "text": [
      "Epoch 1/100\n",
      "\u001b[1m 51/104\u001b[0m \u001b[32m━━━━━━━━━\u001b[0m\u001b[37m━━━━━━━━━━━\u001b[0m \u001b[1m4s\u001b[0m 79ms/step - loss: 1.2406 - mae: 0.7052"
     ]
    }
   ],
   "source": [
    "from src.training.hyperparameters_tuning import tune_hyperparameters\n",
    "\n",
    "study_lstm_btc = tune_hyperparameters(\n",
    "    X_train_seq_btc,\n",
    "    y_train_seq_btc,\n",
    "    X_val_seq_btc,\n",
    "    y_val_seq_btc,\n",
    "    train_lstm,\n",
    "    n_trials=50,\n",
    ")"
   ]
  },
  {
   "cell_type": "markdown",
   "metadata": {},
   "source": [
    "## Model Training"
   ]
  },
  {
   "cell_type": "code",
   "execution_count": null,
   "metadata": {},
   "outputs": [
    {
     "ename": "NameError",
     "evalue": "name 'study_lstm_btc' is not defined",
     "output_type": "error",
     "traceback": [
      "\u001b[0;31m---------------------------------------------------------------------------\u001b[0m",
      "\u001b[0;31mNameError\u001b[0m                                 Traceback (most recent call last)",
      "Cell \u001b[0;32mIn[7], line 2\u001b[0m\n\u001b[1;32m      1\u001b[0m \u001b[38;5;66;03m# best parameters from the Optuna study\u001b[39;00m\n\u001b[0;32m----> 2\u001b[0m best_params_btc \u001b[38;5;241m=\u001b[39m \u001b[43mstudy_lstm_btc\u001b[49m\u001b[38;5;241m.\u001b[39mbest_params_btc\n\u001b[1;32m      3\u001b[0m \u001b[38;5;66;03m# best_params_btc = {\u001b[39;00m\n\u001b[1;32m      4\u001b[0m \u001b[38;5;66;03m#     \"num_lstm_layers\": 3,\u001b[39;00m\n\u001b[1;32m      5\u001b[0m \u001b[38;5;66;03m#     \"lstm_units_1\": 256,\u001b[39;00m\n\u001b[0;32m   (...)\u001b[0m\n\u001b[1;32m     17\u001b[0m \n\u001b[1;32m     18\u001b[0m \u001b[38;5;66;03m# Format the parameters correctly\u001b[39;00m\n\u001b[1;32m     19\u001b[0m formatted_params \u001b[38;5;241m=\u001b[39m {\n\u001b[1;32m     20\u001b[0m     \u001b[38;5;124m\"\u001b[39m\u001b[38;5;124mlstm_units\u001b[39m\u001b[38;5;124m\"\u001b[39m: [\n\u001b[1;32m     21\u001b[0m         best_params_btc[\u001b[38;5;124mf\u001b[39m\u001b[38;5;124m\"\u001b[39m\u001b[38;5;124mlstm_units_\u001b[39m\u001b[38;5;132;01m{\u001b[39;00mi\u001b[38;5;241m+\u001b[39m\u001b[38;5;241m1\u001b[39m\u001b[38;5;132;01m}\u001b[39;00m\u001b[38;5;124m\"\u001b[39m] \u001b[38;5;28;01mfor\u001b[39;00m i \u001b[38;5;129;01min\u001b[39;00m \u001b[38;5;28mrange\u001b[39m(best_params_btc[\u001b[38;5;124m\"\u001b[39m\u001b[38;5;124mnum_lstm_layers\u001b[39m\u001b[38;5;124m\"\u001b[39m])\n\u001b[0;32m   (...)\u001b[0m\n\u001b[1;32m     30\u001b[0m     \u001b[38;5;124m\"\u001b[39m\u001b[38;5;124mepochs\u001b[39m\u001b[38;5;124m\"\u001b[39m: \u001b[38;5;241m300\u001b[39m,\n\u001b[1;32m     31\u001b[0m }\n",
      "\u001b[0;31mNameError\u001b[0m: name 'study_lstm_btc' is not defined"
     ]
    }
   ],
   "source": [
    "# best parameters from the Optuna study\n",
    "best_params_btc = study_lstm_btc.best_params_btc\n",
    "# best_params_btc = {\n",
    "#     \"num_lstm_layers\": 3,\n",
    "#     \"lstm_units_1\": 256,\n",
    "#     \"lstm_units_2\": 32,\n",
    "#     \"lstm_units_3\": 64,\n",
    "#     \"num_dense_layers\": 1,\n",
    "#     \"dense_units_1\": 224,\n",
    "#     \"dense_units_2\": 224,\n",
    "#     \"dense_units_3\": 64,\n",
    "#     \"dropout_rate\": 0.30000000000000004,\n",
    "#     \"learning_rate\": 0.00035070707045515984,\n",
    "#     \"batch_size\": 64,\n",
    "# }\n",
    "\n",
    "\n",
    "# Format the parameters correctly\n",
    "formatted_params = {\n",
    "    \"lstm_units\": [\n",
    "        best_params_btc[f\"lstm_units_{i+1}\"] for i in range(best_params_btc[\"num_lstm_layers\"])\n",
    "    ],\n",
    "    \"dense_units\": [\n",
    "        best_params_btc[f\"dense_units_{i+1}\"]\n",
    "        for i in range(best_params_btc[\"num_dense_layers\"])\n",
    "    ],\n",
    "    \"dropout_rate\": best_params_btc[\"dropout_rate\"],\n",
    "    \"learning_rate\": best_params_btc[\"learning_rate\"],\n",
    "    \"batch_size\": best_params_btc[\"batch_size\"],\n",
    "    \"epochs\": 300,\n",
    "}\n",
    "\n",
    "# Train the model with the formatted parameters\n",
    "model_btc, history_btc = train_lstm(\n",
    "    X_train_seq_btc,\n",
    "    y_train_seq_btc,\n",
    "    X_val_seq_btc,\n",
    "    y_val_seq_btc,\n",
    "    params=formatted_params,\n",
    ")"
   ]
  },
  {
   "cell_type": "code",
   "execution_count": null,
   "metadata": {},
   "outputs": [
    {
     "name": "stdout",
     "output_type": "stream",
     "text": [
      "\u001b[1m12/12\u001b[0m \u001b[32m━━━━━━━━━━━━━━━━━━━━\u001b[0m\u001b[37m\u001b[0m \u001b[1m1s\u001b[0m 38ms/step\n"
     ]
    }
   ],
   "source": [
    "# save weights\n",
    "model_btc.save_weights(\n",
    "    config.DATA_DIR\n",
    "    / \"weights\"\n",
    "    / \"log_price_change\"\n",
    "    / \"log_price_change_weights_btc.weights.h5\"\n",
    ")\n",
    "\n",
    "#  generate predictions\n",
    "y_pred_btc = model_btc.predict(X_test_seq_btc).flatten()\n",
    "\n",
    "# create new df and save it to csv\n",
    "predictions_btc = pd.DataFrame(\n",
    "    {\n",
    "        \"date\": y_test_btc.index[30:],\n",
    "        \"predictedLogPriceChange\": y_pred_btc,\n",
    "    }\n",
    ")\n",
    "\n",
    "\n",
    "predictions_btc.to_csv(\n",
    "    config.DATA_DIR / \"predictions\" / \"log_price_change_predictions_btc.csv\",\n",
    "    index=False,\n",
    ")"
   ]
  },
  {
   "cell_type": "markdown",
   "metadata": {},
   "source": [
    "# ETH"
   ]
  },
  {
   "cell_type": "markdown",
   "metadata": {},
   "source": [
    "### Model Tuning"
   ]
  },
  {
   "cell_type": "code",
   "execution_count": null,
   "metadata": {},
   "outputs": [],
   "source": [
    "study_lstm_eth = tune_hyperparameters(\n",
    "    X_train_seq_eth,\n",
    "    y_train_seq_eth,\n",
    "    X_val_seq_eth,\n",
    "    y_val_seq_eth,\n",
    "    train_lstm,\n",
    "    n_trials=50,\n",
    ")"
   ]
  },
  {
   "cell_type": "markdown",
   "metadata": {},
   "source": [
    "## Model Training"
   ]
  },
  {
   "cell_type": "code",
   "execution_count": null,
   "metadata": {},
   "outputs": [
    {
     "name": "stdout",
     "output_type": "stream",
     "text": [
      "Epoch 1/300\n",
      "\u001b[1m52/52\u001b[0m \u001b[32m━━━━━━━━━━━━━━━━━━━━\u001b[0m\u001b[37m\u001b[0m \u001b[1m3s\u001b[0m 35ms/step - loss: 0.0194 - mae: 0.1052 - val_loss: 0.0025 - val_mae: 0.0384\n",
      "Epoch 2/300\n",
      "\u001b[1m52/52\u001b[0m \u001b[32m━━━━━━━━━━━━━━━━━━━━\u001b[0m\u001b[37m\u001b[0m \u001b[1m2s\u001b[0m 31ms/step - loss: 0.0085 - mae: 0.0691 - val_loss: 0.0031 - val_mae: 0.0460\n",
      "Epoch 3/300\n",
      "\u001b[1m52/52\u001b[0m \u001b[32m━━━━━━━━━━━━━━━━━━━━\u001b[0m\u001b[37m\u001b[0m \u001b[1m2s\u001b[0m 42ms/step - loss: 0.0067 - mae: 0.0609 - val_loss: 0.0022 - val_mae: 0.0372\n",
      "Epoch 4/300\n",
      "\u001b[1m52/52\u001b[0m \u001b[32m━━━━━━━━━━━━━━━━━━━━\u001b[0m\u001b[37m\u001b[0m \u001b[1m2s\u001b[0m 30ms/step - loss: 0.0054 - mae: 0.0528 - val_loss: 0.0015 - val_mae: 0.0300\n",
      "Epoch 5/300\n",
      "\u001b[1m52/52\u001b[0m \u001b[32m━━━━━━━━━━━━━━━━━━━━\u001b[0m\u001b[37m\u001b[0m \u001b[1m1s\u001b[0m 27ms/step - loss: 0.0049 - mae: 0.0504 - val_loss: 0.0017 - val_mae: 0.0335\n",
      "Epoch 6/300\n",
      "\u001b[1m52/52\u001b[0m \u001b[32m━━━━━━━━━━━━━━━━━━━━\u001b[0m\u001b[37m\u001b[0m \u001b[1m2s\u001b[0m 30ms/step - loss: 0.0046 - mae: 0.0474 - val_loss: 0.0020 - val_mae: 0.0355\n",
      "Epoch 7/300\n",
      "\u001b[1m52/52\u001b[0m \u001b[32m━━━━━━━━━━━━━━━━━━━━\u001b[0m\u001b[37m\u001b[0m \u001b[1m1s\u001b[0m 29ms/step - loss: 0.0046 - mae: 0.0474 - val_loss: 0.0017 - val_mae: 0.0331\n",
      "Epoch 8/300\n",
      "\u001b[1m52/52\u001b[0m \u001b[32m━━━━━━━━━━━━━━━━━━━━\u001b[0m\u001b[37m\u001b[0m \u001b[1m2s\u001b[0m 29ms/step - loss: 0.0046 - mae: 0.0471 - val_loss: 0.0016 - val_mae: 0.0317\n",
      "Epoch 9/300\n",
      "\u001b[1m52/52\u001b[0m \u001b[32m━━━━━━━━━━━━━━━━━━━━\u001b[0m\u001b[37m\u001b[0m \u001b[1m2s\u001b[0m 29ms/step - loss: 0.0044 - mae: 0.0458 - val_loss: 0.0015 - val_mae: 0.0314\n",
      "Epoch 10/300\n",
      "\u001b[1m52/52\u001b[0m \u001b[32m━━━━━━━━━━━━━━━━━━━━\u001b[0m\u001b[37m\u001b[0m \u001b[1m2s\u001b[0m 31ms/step - loss: 0.0042 - mae: 0.0444 - val_loss: 0.0015 - val_mae: 0.0308\n",
      "Epoch 11/300\n",
      "\u001b[1m52/52\u001b[0m \u001b[32m━━━━━━━━━━━━━━━━━━━━\u001b[0m\u001b[37m\u001b[0m \u001b[1m2s\u001b[0m 33ms/step - loss: 0.0040 - mae: 0.0442 - val_loss: 0.0015 - val_mae: 0.0304\n",
      "Epoch 12/300\n",
      "\u001b[1m52/52\u001b[0m \u001b[32m━━━━━━━━━━━━━━━━━━━━\u001b[0m\u001b[37m\u001b[0m \u001b[1m2s\u001b[0m 35ms/step - loss: 0.0041 - mae: 0.0442 - val_loss: 0.0015 - val_mae: 0.0291\n",
      "Epoch 13/300\n",
      "\u001b[1m52/52\u001b[0m \u001b[32m━━━━━━━━━━━━━━━━━━━━\u001b[0m\u001b[37m\u001b[0m \u001b[1m1s\u001b[0m 29ms/step - loss: 0.0040 - mae: 0.0432 - val_loss: 0.0015 - val_mae: 0.0308\n",
      "Epoch 14/300\n",
      "\u001b[1m52/52\u001b[0m \u001b[32m━━━━━━━━━━━━━━━━━━━━\u001b[0m\u001b[37m\u001b[0m \u001b[1m1s\u001b[0m 28ms/step - loss: 0.0038 - mae: 0.0431 - val_loss: 0.0014 - val_mae: 0.0294\n",
      "Epoch 15/300\n",
      "\u001b[1m52/52\u001b[0m \u001b[32m━━━━━━━━━━━━━━━━━━━━\u001b[0m\u001b[37m\u001b[0m \u001b[1m1s\u001b[0m 27ms/step - loss: 0.0040 - mae: 0.0440 - val_loss: 0.0015 - val_mae: 0.0294\n",
      "Epoch 16/300\n",
      "\u001b[1m52/52\u001b[0m \u001b[32m━━━━━━━━━━━━━━━━━━━━\u001b[0m\u001b[37m\u001b[0m \u001b[1m1s\u001b[0m 27ms/step - loss: 0.0038 - mae: 0.0428 - val_loss: 0.0015 - val_mae: 0.0297\n",
      "Epoch 17/300\n",
      "\u001b[1m52/52\u001b[0m \u001b[32m━━━━━━━━━━━━━━━━━━━━\u001b[0m\u001b[37m\u001b[0m \u001b[1m1s\u001b[0m 28ms/step - loss: 0.0039 - mae: 0.0432 - val_loss: 0.0015 - val_mae: 0.0298\n",
      "Epoch 18/300\n",
      "\u001b[1m52/52\u001b[0m \u001b[32m━━━━━━━━━━━━━━━━━━━━\u001b[0m\u001b[37m\u001b[0m \u001b[1m1s\u001b[0m 28ms/step - loss: 0.0039 - mae: 0.0423 - val_loss: 0.0016 - val_mae: 0.0307\n",
      "Epoch 19/300\n",
      "\u001b[1m52/52\u001b[0m \u001b[32m━━━━━━━━━━━━━━━━━━━━\u001b[0m\u001b[37m\u001b[0m \u001b[1m1s\u001b[0m 27ms/step - loss: 0.0038 - mae: 0.0429 - val_loss: 0.0016 - val_mae: 0.0312\n",
      "Epoch 20/300\n",
      "\u001b[1m52/52\u001b[0m \u001b[32m━━━━━━━━━━━━━━━━━━━━\u001b[0m\u001b[37m\u001b[0m \u001b[1m1s\u001b[0m 27ms/step - loss: 0.0038 - mae: 0.0426 - val_loss: 0.0015 - val_mae: 0.0303\n",
      "Epoch 21/300\n",
      "\u001b[1m52/52\u001b[0m \u001b[32m━━━━━━━━━━━━━━━━━━━━\u001b[0m\u001b[37m\u001b[0m \u001b[1m1s\u001b[0m 28ms/step - loss: 0.0037 - mae: 0.0414 - val_loss: 0.0016 - val_mae: 0.0302\n",
      "Epoch 22/300\n",
      "\u001b[1m52/52\u001b[0m \u001b[32m━━━━━━━━━━━━━━━━━━━━\u001b[0m\u001b[37m\u001b[0m \u001b[1m1s\u001b[0m 27ms/step - loss: 0.0037 - mae: 0.0418 - val_loss: 0.0016 - val_mae: 0.0299\n",
      "Epoch 23/300\n",
      "\u001b[1m52/52\u001b[0m \u001b[32m━━━━━━━━━━━━━━━━━━━━\u001b[0m\u001b[37m\u001b[0m \u001b[1m1s\u001b[0m 27ms/step - loss: 0.0035 - mae: 0.0409 - val_loss: 0.0016 - val_mae: 0.0309\n",
      "Epoch 24/300\n",
      "\u001b[1m52/52\u001b[0m \u001b[32m━━━━━━━━━━━━━━━━━━━━\u001b[0m\u001b[37m\u001b[0m \u001b[1m1s\u001b[0m 27ms/step - loss: 0.0037 - mae: 0.0424 - val_loss: 0.0014 - val_mae: 0.0289\n",
      "Epoch 25/300\n",
      "\u001b[1m52/52\u001b[0m \u001b[32m━━━━━━━━━━━━━━━━━━━━\u001b[0m\u001b[37m\u001b[0m \u001b[1m1s\u001b[0m 27ms/step - loss: 0.0037 - mae: 0.0415 - val_loss: 0.0016 - val_mae: 0.0299\n",
      "Epoch 26/300\n",
      "\u001b[1m52/52\u001b[0m \u001b[32m━━━━━━━━━━━━━━━━━━━━\u001b[0m\u001b[37m\u001b[0m \u001b[1m2s\u001b[0m 29ms/step - loss: 0.0037 - mae: 0.0424 - val_loss: 0.0015 - val_mae: 0.0294\n",
      "Epoch 27/300\n",
      "\u001b[1m52/52\u001b[0m \u001b[32m━━━━━━━━━━━━━━━━━━━━\u001b[0m\u001b[37m\u001b[0m \u001b[1m1s\u001b[0m 28ms/step - loss: 0.0038 - mae: 0.0411 - val_loss: 0.0015 - val_mae: 0.0290\n",
      "Epoch 28/300\n",
      "\u001b[1m52/52\u001b[0m \u001b[32m━━━━━━━━━━━━━━━━━━━━\u001b[0m\u001b[37m\u001b[0m \u001b[1m1s\u001b[0m 27ms/step - loss: 0.0036 - mae: 0.0409 - val_loss: 0.0016 - val_mae: 0.0297\n",
      "Epoch 29/300\n",
      "\u001b[1m52/52\u001b[0m \u001b[32m━━━━━━━━━━━━━━━━━━━━\u001b[0m\u001b[37m\u001b[0m \u001b[1m1s\u001b[0m 27ms/step - loss: 0.0038 - mae: 0.0420 - val_loss: 0.0016 - val_mae: 0.0297\n",
      "Epoch 30/300\n",
      "\u001b[1m52/52\u001b[0m \u001b[32m━━━━━━━━━━━━━━━━━━━━\u001b[0m\u001b[37m\u001b[0m \u001b[1m1s\u001b[0m 28ms/step - loss: 0.0037 - mae: 0.0422 - val_loss: 0.0016 - val_mae: 0.0299\n",
      "Epoch 31/300\n",
      "\u001b[1m52/52\u001b[0m \u001b[32m━━━━━━━━━━━━━━━━━━━━\u001b[0m\u001b[37m\u001b[0m \u001b[1m1s\u001b[0m 28ms/step - loss: 0.0035 - mae: 0.0407 - val_loss: 0.0016 - val_mae: 0.0300\n",
      "Epoch 32/300\n",
      "\u001b[1m52/52\u001b[0m \u001b[32m━━━━━━━━━━━━━━━━━━━━\u001b[0m\u001b[37m\u001b[0m \u001b[1m1s\u001b[0m 28ms/step - loss: 0.0036 - mae: 0.0400 - val_loss: 0.0017 - val_mae: 0.0306\n",
      "Epoch 33/300\n",
      "\u001b[1m52/52\u001b[0m \u001b[32m━━━━━━━━━━━━━━━━━━━━\u001b[0m\u001b[37m\u001b[0m \u001b[1m1s\u001b[0m 28ms/step - loss: 0.0034 - mae: 0.0398 - val_loss: 0.0019 - val_mae: 0.0308\n",
      "Epoch 34/300\n",
      "\u001b[1m52/52\u001b[0m \u001b[32m━━━━━━━━━━━━━━━━━━━━\u001b[0m\u001b[37m\u001b[0m \u001b[1m1s\u001b[0m 27ms/step - loss: 0.0035 - mae: 0.0404 - val_loss: 0.0018 - val_mae: 0.0304\n"
     ]
    }
   ],
   "source": [
    "# best parameters from the Optuna study\n",
    "best_params_eth = study_lstm_eth.best_params_eth\n",
    "# best_params_eth = {\n",
    "#     \"num_lstm_layers\": 2,\n",
    "#     \"lstm_units_1\": 160,\n",
    "#     \"lstm_units_2\": 32,\n",
    "#     \"lstm_units_3\": 32,\n",
    "#     \"num_dense_layers\": 1,\n",
    "#     \"dense_units_1\": 96,\n",
    "#     \"dense_units_2\": 64,\n",
    "#     \"dense_units_3\": 192,\n",
    "#     \"dropout_rate\": 0.2,\n",
    "#     \"learning_rate\": 0.0005577190382479473,\n",
    "#     \"batch_size\": 32,\n",
    "# }\n",
    "\n",
    "\n",
    "# Format the parameters correctly\n",
    "formatted_params = {\n",
    "    \"lstm_units\": [\n",
    "        best_params_eth[f\"lstm_units_{i+1}\"] for i in range(best_params_eth[\"num_lstm_layers\"])\n",
    "    ],\n",
    "    \"dense_units\": [\n",
    "        best_params_eth[f\"dense_units_{i+1}\"]\n",
    "        for i in range(best_params_eth[\"num_dense_layers\"])\n",
    "    ],\n",
    "    \"dropout_rate\": best_params_eth[\"dropout_rate\"],\n",
    "    \"learning_rate\": best_params_eth[\"learning_rate\"],\n",
    "    \"batch_size\": best_params_eth[\"batch_size\"],\n",
    "    \"epochs\": 300,\n",
    "}\n",
    "\n",
    "# Train the model with the formatted parameters\n",
    "model_eth, history_eth = train_lstm(\n",
    "    X_train_seq_eth,\n",
    "    y_train_seq_eth,\n",
    "    X_val_seq_eth,\n",
    "    y_val_seq_eth,\n",
    "    params=formatted_params,\n",
    ")"
   ]
  },
  {
   "cell_type": "code",
   "execution_count": null,
   "metadata": {},
   "outputs": [
    {
     "name": "stdout",
     "output_type": "stream",
     "text": [
      "\u001b[1m12/12\u001b[0m \u001b[32m━━━━━━━━━━━━━━━━━━━━\u001b[0m\u001b[37m\u001b[0m \u001b[1m0s\u001b[0m 17ms/step\n"
     ]
    }
   ],
   "source": [
    "# save weights\n",
    "model_eth.save_weights(\n",
    "    config.DATA_DIR\n",
    "    / \"weights\"\n",
    "    / \"log_price_change\"\n",
    "    / \"log_price_change_weights_eth.weights.h5\"\n",
    ")\n",
    "\n",
    "#  generate predictions\n",
    "y_pred_eth = model_eth.predict(X_test_seq_eth).flatten()\n",
    "\n",
    "# create new df and save it to csv\n",
    "predictions_eth = pd.DataFrame(\n",
    "    {\n",
    "        \"date\": y_test_eth.index[30:],\n",
    "        \"predictedLogPriceChange\": y_pred_eth,\n",
    "    }\n",
    ")\n",
    "\n",
    "\n",
    "predictions_eth.to_csv(\n",
    "    config.DATA_DIR / \"predictions\" / \"log_price_change_predictions_eth.csv\",\n",
    "    index=False,\n",
    ")"
   ]
  }
 ],
 "metadata": {
  "kernelspec": {
   "display_name": "env",
   "language": "python",
   "name": "python3"
  },
  "language_info": {
   "codemirror_mode": {
    "name": "ipython",
    "version": 3
   },
   "file_extension": ".py",
   "mimetype": "text/x-python",
   "name": "python",
   "nbconvert_exporter": "python",
   "pygments_lexer": "ipython3",
   "version": "3.12.0"
  }
 },
 "nbformat": 4,
 "nbformat_minor": 2
}
